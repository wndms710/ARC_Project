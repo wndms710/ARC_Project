{
 "cells": [
  {
   "cell_type": "code",
   "execution_count": 10,
   "id": "fb59b34e",
   "metadata": {
    "ExecuteTime": {
     "end_time": "2023-12-08T18:23:41.497727Z",
     "start_time": "2023-12-08T18:23:41.481779Z"
    }
   },
   "outputs": [],
   "source": [
    "import numpy as np\n",
    "from matplotlib import pyplot as plt\n",
    "import pandas as pd"
   ]
  },
  {
   "cell_type": "code",
   "execution_count": 11,
   "id": "4db54daf",
   "metadata": {
    "ExecuteTime": {
     "end_time": "2023-12-08T18:23:42.207506Z",
     "start_time": "2023-12-08T18:23:42.196535Z"
    }
   },
   "outputs": [],
   "source": [
    "from sklearn.linear_model import LinearRegression\n",
    "from sklearn.model_selection import train_test_split\n",
    "from sklearn.metrics import mean_squared_error"
   ]
  },
  {
   "cell_type": "markdown",
   "id": "c0156201",
   "metadata": {},
   "source": [
    "# Data"
   ]
  },
  {
   "cell_type": "code",
   "execution_count": 26,
   "id": "775d06e9",
   "metadata": {
    "ExecuteTime": {
     "end_time": "2023-12-08T19:05:54.401938Z",
     "start_time": "2023-12-08T19:05:53.641937Z"
    },
    "scrolled": false
   },
   "outputs": [
    {
     "data": {
      "text/html": [
       "<div>\n",
       "<style scoped>\n",
       "    .dataframe tbody tr th:only-of-type {\n",
       "        vertical-align: middle;\n",
       "    }\n",
       "\n",
       "    .dataframe tbody tr th {\n",
       "        vertical-align: top;\n",
       "    }\n",
       "\n",
       "    .dataframe thead th {\n",
       "        text-align: right;\n",
       "    }\n",
       "</style>\n",
       "<table border=\"1\" class=\"dataframe\">\n",
       "  <thead>\n",
       "    <tr style=\"text-align: right;\">\n",
       "      <th></th>\n",
       "      <th>nSub</th>\n",
       "      <th>nARC</th>\n",
       "      <th>thARC</th>\n",
       "      <th>wavelength</th>\n",
       "      <th>T</th>\n",
       "    </tr>\n",
       "  </thead>\n",
       "  <tbody>\n",
       "    <tr>\n",
       "      <th>0</th>\n",
       "      <td>1.0</td>\n",
       "      <td>3.25</td>\n",
       "      <td>0.0</td>\n",
       "      <td>14.937342</td>\n",
       "      <td>1.0</td>\n",
       "    </tr>\n",
       "    <tr>\n",
       "      <th>1</th>\n",
       "      <td>1.0</td>\n",
       "      <td>3.25</td>\n",
       "      <td>0.0</td>\n",
       "      <td>14.885425</td>\n",
       "      <td>1.0</td>\n",
       "    </tr>\n",
       "    <tr>\n",
       "      <th>2</th>\n",
       "      <td>1.0</td>\n",
       "      <td>3.25</td>\n",
       "      <td>0.0</td>\n",
       "      <td>14.833867</td>\n",
       "      <td>1.0</td>\n",
       "    </tr>\n",
       "    <tr>\n",
       "      <th>3</th>\n",
       "      <td>1.0</td>\n",
       "      <td>3.25</td>\n",
       "      <td>0.0</td>\n",
       "      <td>14.782666</td>\n",
       "      <td>1.0</td>\n",
       "    </tr>\n",
       "    <tr>\n",
       "      <th>4</th>\n",
       "      <td>1.0</td>\n",
       "      <td>3.25</td>\n",
       "      <td>0.0</td>\n",
       "      <td>14.731816</td>\n",
       "      <td>1.0</td>\n",
       "    </tr>\n",
       "  </tbody>\n",
       "</table>\n",
       "</div>"
      ],
      "text/plain": [
       "   nSub  nARC  thARC  wavelength    T\n",
       "0   1.0  3.25    0.0   14.937342  1.0\n",
       "1   1.0  3.25    0.0   14.885425  1.0\n",
       "2   1.0  3.25    0.0   14.833867  1.0\n",
       "3   1.0  3.25    0.0   14.782666  1.0\n",
       "4   1.0  3.25    0.0   14.731816  1.0"
      ]
     },
     "execution_count": 26,
     "metadata": {},
     "output_type": "execute_result"
    }
   ],
   "source": [
    "t_dataset = pd.read_csv(\"T_data_final_1.csv\")\n",
    "t_dataset.columns = [\"nSub\", \"nARC\", \"thARC\", \"wavelength\", \"T\"]\n",
    "t_dataset = t_dataset.append({\"nSub\":1.0, \"nARC\":3.25, \"thARC\":0.0, \"wavelength\":14.9896229, \"T\":1.00000000}, ignore_index=True)\n",
    "t_dataset.head()"
   ]
  },
  {
   "cell_type": "code",
   "execution_count": 27,
   "id": "b643f050",
   "metadata": {
    "ExecuteTime": {
     "end_time": "2023-12-08T19:05:57.200829Z",
     "start_time": "2023-12-08T19:05:57.161934Z"
    }
   },
   "outputs": [
    {
     "data": {
      "text/plain": [
       "nSub          0\n",
       "nARC          0\n",
       "thARC         0\n",
       "wavelength    0\n",
       "T             0\n",
       "dtype: int64"
      ]
     },
     "execution_count": 27,
     "metadata": {},
     "output_type": "execute_result"
    }
   ],
   "source": [
    "t_dataset.isnull().sum()"
   ]
  },
  {
   "cell_type": "code",
   "execution_count": 28,
   "id": "62554712",
   "metadata": {
    "ExecuteTime": {
     "end_time": "2023-12-08T19:06:02.168051Z",
     "start_time": "2023-12-08T19:06:02.104213Z"
    }
   },
   "outputs": [
    {
     "data": {
      "text/plain": [
       "0          1.000000\n",
       "1          1.000000\n",
       "2          1.000000\n",
       "3          1.000000\n",
       "4          1.000000\n",
       "             ...   \n",
       "1507501    0.645520\n",
       "1507502    0.644268\n",
       "1507503    0.643024\n",
       "1507504    0.641787\n",
       "1507505    1.000000\n",
       "Name: T, Length: 1507506, dtype: float64"
      ]
     },
     "execution_count": 28,
     "metadata": {},
     "output_type": "execute_result"
    }
   ],
   "source": [
    "x_data = t_dataset.drop(\"T\", axis = 1, inplace = False)\n",
    "\n",
    "y_data = t_dataset[\"T\"]\n",
    "\n",
    "y_data"
   ]
  },
  {
   "cell_type": "code",
   "execution_count": 29,
   "id": "45152219",
   "metadata": {
    "ExecuteTime": {
     "end_time": "2023-12-08T19:06:03.514877Z",
     "start_time": "2023-12-08T19:06:03.200946Z"
    }
   },
   "outputs": [],
   "source": [
    "x_train, x_test, y_train, y_test = train_test_split(x_data, y_data, test_size = 0.3, random_state = 1)"
   ]
  },
  {
   "cell_type": "code",
   "execution_count": 30,
   "id": "5c47126d",
   "metadata": {
    "ExecuteTime": {
     "end_time": "2023-12-08T19:06:05.368805Z",
     "start_time": "2023-12-08T19:06:05.355863Z"
    }
   },
   "outputs": [
    {
     "name": "stdout",
     "output_type": "stream",
     "text": [
      "t_train_x (1055254, 4)\n",
      "t_train_y (1055254,)\n",
      "t_test_x (452252, 4)\n",
      "t_test_y (452252,)\n"
     ]
    }
   ],
   "source": [
    "print('t_train_x',x_train.shape)\n",
    "print('t_train_y',y_train.shape)\n",
    "print('t_test_x',x_test.shape)\n",
    "print('t_test_y',y_test.shape)"
   ]
  },
  {
   "cell_type": "code",
   "execution_count": 31,
   "id": "d5ac3967",
   "metadata": {
    "ExecuteTime": {
     "end_time": "2023-12-08T19:06:17.424275Z",
     "start_time": "2023-12-08T19:06:17.408319Z"
    }
   },
   "outputs": [],
   "source": [
    "# Loss function\n",
    "def MSE(real, predict):\n",
    "    error = ((real-predict)**2).mean()\n",
    "    \n",
    "    return error"
   ]
  },
  {
   "cell_type": "markdown",
   "id": "485c319a",
   "metadata": {},
   "source": [
    "# Linear Regression"
   ]
  },
  {
   "cell_type": "markdown",
   "id": "81d25640",
   "metadata": {},
   "source": [
    "## Model"
   ]
  },
  {
   "cell_type": "code",
   "execution_count": 32,
   "id": "0702e714",
   "metadata": {
    "ExecuteTime": {
     "end_time": "2023-12-08T19:06:20.892455Z",
     "start_time": "2023-12-08T19:06:19.236196Z"
    }
   },
   "outputs": [
    {
     "name": "stdout",
     "output_type": "stream",
     "text": [
      "Mean Squared Error: 0.019251849228004846\n",
      "0.33497180056864506\n",
      "0.33500111838928737\n"
     ]
    },
    {
     "data": {
      "image/png": "[encoded data removed]",
      "text/plain": [
       "<Figure size 640x480 with 1 Axes>"
      ]
     },
     "metadata": {},
     "output_type": "display_data"
    }
   ],
   "source": [
    "reg = LinearRegression()\n",
    "reg.fit(x_train, y_train)\n",
    "\n",
    "reg_pred = reg.predict(x_test)\n",
    "\n",
    "# 모델 평가\n",
    "mse = MSE(y_test, reg_pred)\n",
    "print(f'Mean Squared Error: {mse}')\n",
    "\n",
    "# 결과 시각화 (예시\n",
    "x = np.linspace(0, 1, 10)\n",
    "\n",
    "print(reg.score(x_train, y_train))\n",
    "print(reg.score(x_test, y_test))\n",
    "plt.scatter(y_test,reg_pred)\n",
    "plt.plot(x, x, '-r')\n",
    "plt.xlabel('Actual Values')\n",
    "plt.ylabel('Predicted Values')\n",
    "plt.xlim([-0.1, 1.1])\n",
    "plt.ylim([-0.1, 1.1])\n",
    "plt.show()"
   ]
  },
  {
   "cell_type": "markdown",
   "id": "57db6ebd",
   "metadata": {},
   "source": [
    "# Ridge"
   ]
  },
  {
   "cell_type": "markdown",
   "id": "2721b162",
   "metadata": {},
   "source": [
    "## Model"
   ]
  },
  {
   "cell_type": "code",
   "execution_count": 33,
   "id": "17cad600",
   "metadata": {
    "ExecuteTime": {
     "end_time": "2023-12-08T19:06:25.650143Z",
     "start_time": "2023-12-08T19:06:24.330829Z"
    }
   },
   "outputs": [
    {
     "name": "stdout",
     "output_type": "stream",
     "text": [
      "Mean Squared Error: 0.019251849227795857\n",
      "0.3349718005686444\n",
      "0.33500111839651514\n"
     ]
    },
    {
     "data": {
      "image/png": "[encoded data removed]",
      "text/plain": [
       "<Figure size 640x480 with 1 Axes>"
      ]
     },
     "metadata": {},
     "output_type": "display_data"
    }
   ],
   "source": [
    "from sklearn.linear_model import Ridge\n",
    "\n",
    "ridge = Ridge(alpha=0.01)\n",
    "ridge.fit(x_train, y_train)\n",
    "\n",
    "ridge_pred = ridge.predict(x_test)\n",
    "\n",
    "# 모델 평가\n",
    "mse = MSE(y_test, ridge_pred)\n",
    "print(f'Mean Squared Error: {mse}')\n",
    "\n",
    "# 결과 시각화 (예시\n",
    "x = np.linspace(0, 1, 10)\n",
    "\n",
    "print(ridge.score(x_train, y_train))\n",
    "print(ridge.score(x_test, y_test))\n",
    "plt.scatter(y_test,ridge_pred)\n",
    "plt.plot(x, x, '-r')\n",
    "plt.xlabel('Actual Values')\n",
    "plt.ylabel('Predicted Values')\n",
    "plt.xlim([-0.1, 1.1])\n",
    "plt.ylim([-0.1, 1.1])\n",
    "plt.show()"
   ]
  },
  {
   "cell_type": "markdown",
   "id": "1f6f5f9d",
   "metadata": {},
   "source": [
    "## Optimize"
   ]
  },
  {
   "cell_type": "code",
   "execution_count": 35,
   "id": "7f659dc0",
   "metadata": {
    "ExecuteTime": {
     "end_time": "2023-12-08T19:06:46.679646Z",
     "start_time": "2023-12-08T19:06:42.333282Z"
    },
    "scrolled": false
   },
   "outputs": [
    {
     "name": "stdout",
     "output_type": "stream",
     "text": [
      "|   iter    |  target   |   alpha   |\n",
      "-------------------------------------\n",
      "| \u001b[0m1        \u001b[0m | \u001b[0m0.335    \u001b[0m | \u001b[0m4.229    \u001b[0m |\n",
      "| \u001b[95m2        \u001b[0m | \u001b[95m0.335    \u001b[0m | \u001b[95m7.231    \u001b[0m |\n",
      "| \u001b[0m3        \u001b[0m | \u001b[0m0.335    \u001b[0m | \u001b[0m0.1011   \u001b[0m |\n",
      "| \u001b[0m4        \u001b[0m | \u001b[0m0.335    \u001b[0m | \u001b[0m3.093    \u001b[0m |\n",
      "| \u001b[0m5        \u001b[0m | \u001b[0m0.335    \u001b[0m | \u001b[0m1.553    \u001b[0m |\n",
      "| \u001b[95m6        \u001b[0m | \u001b[95m0.335    \u001b[0m | \u001b[95m9.999    \u001b[0m |\n",
      "| \u001b[95m7        \u001b[0m | \u001b[95m0.335    \u001b[0m | \u001b[95m9.999    \u001b[0m |\n",
      "| \u001b[0m8        \u001b[0m | \u001b[0m0.335    \u001b[0m | \u001b[0m9.999    \u001b[0m |\n",
      "| \u001b[95m9        \u001b[0m | \u001b[95m0.335    \u001b[0m | \u001b[95m10.0     \u001b[0m |\n",
      "| \u001b[0m10       \u001b[0m | \u001b[0m0.335    \u001b[0m | \u001b[0m9.998    \u001b[0m |\n",
      "| \u001b[0m11       \u001b[0m | \u001b[0m0.335    \u001b[0m | \u001b[0m9.998    \u001b[0m |\n",
      "| \u001b[0m12       \u001b[0m | \u001b[0m0.335    \u001b[0m | \u001b[0m9.999    \u001b[0m |\n",
      "| \u001b[0m13       \u001b[0m | \u001b[0m0.335    \u001b[0m | \u001b[0m10.0     \u001b[0m |\n",
      "| \u001b[0m14       \u001b[0m | \u001b[0m0.335    \u001b[0m | \u001b[0m9.998    \u001b[0m |\n",
      "| \u001b[0m15       \u001b[0m | \u001b[0m0.335    \u001b[0m | \u001b[0m9.996    \u001b[0m |\n",
      "| \u001b[0m16       \u001b[0m | \u001b[0m0.335    \u001b[0m | \u001b[0m9.998    \u001b[0m |\n",
      "| \u001b[0m17       \u001b[0m | \u001b[0m0.335    \u001b[0m | \u001b[0m10.0     \u001b[0m |\n",
      "| \u001b[0m18       \u001b[0m | \u001b[0m0.335    \u001b[0m | \u001b[0m9.999    \u001b[0m |\n",
      "| \u001b[0m19       \u001b[0m | \u001b[0m0.335    \u001b[0m | \u001b[0m10.0     \u001b[0m |\n",
      "| \u001b[0m20       \u001b[0m | \u001b[0m0.335    \u001b[0m | \u001b[0m9.999    \u001b[0m |\n",
      "| \u001b[0m21       \u001b[0m | \u001b[0m0.335    \u001b[0m | \u001b[0m9.999    \u001b[0m |\n",
      "| \u001b[0m22       \u001b[0m | \u001b[0m0.335    \u001b[0m | \u001b[0m9.999    \u001b[0m |\n",
      "| \u001b[0m23       \u001b[0m | \u001b[0m0.335    \u001b[0m | \u001b[0m9.998    \u001b[0m |\n",
      "| \u001b[0m24       \u001b[0m | \u001b[0m0.335    \u001b[0m | \u001b[0m9.996    \u001b[0m |\n",
      "| \u001b[0m25       \u001b[0m | \u001b[0m0.335    \u001b[0m | \u001b[0m9.999    \u001b[0m |\n",
      "| \u001b[0m26       \u001b[0m | \u001b[0m0.335    \u001b[0m | \u001b[0m9.998    \u001b[0m |\n",
      "| \u001b[95m27       \u001b[0m | \u001b[95m0.335    \u001b[0m | \u001b[95m10.0     \u001b[0m |\n",
      "| \u001b[0m28       \u001b[0m | \u001b[0m0.335    \u001b[0m | \u001b[0m9.999    \u001b[0m |\n",
      "| \u001b[0m29       \u001b[0m | \u001b[0m0.335    \u001b[0m | \u001b[0m10.0     \u001b[0m |\n",
      "| \u001b[0m30       \u001b[0m | \u001b[0m0.335    \u001b[0m | \u001b[0m9.998    \u001b[0m |\n",
      "| \u001b[0m31       \u001b[0m | \u001b[0m0.335    \u001b[0m | \u001b[0m9.999    \u001b[0m |\n",
      "| \u001b[0m32       \u001b[0m | \u001b[0m0.335    \u001b[0m | \u001b[0m10.0     \u001b[0m |\n",
      "| \u001b[0m33       \u001b[0m | \u001b[0m0.335    \u001b[0m | \u001b[0m9.999    \u001b[0m |\n",
      "| \u001b[0m34       \u001b[0m | \u001b[0m0.335    \u001b[0m | \u001b[0m9.999    \u001b[0m |\n",
      "| \u001b[0m35       \u001b[0m | \u001b[0m0.335    \u001b[0m | \u001b[0m9.999    \u001b[0m |\n",
      "=====================================\n"
     ]
    }
   ],
   "source": [
    "from bayes_opt import BayesianOptimization\n",
    "\n",
    "def train_acc(alpha):\n",
    "    \n",
    "    ridge_final = Ridge(alpha=alpha)\n",
    "    ridge_final.fit(x_train, y_train)\n",
    "    \n",
    "   # Validation\n",
    "    y_pred = ridge_final.predict(x_test)\n",
    "    acc= ridge_final.score(x_test, y_test)\n",
    "    \n",
    "    return acc\n",
    "\n",
    "pbounds = {'alpha': (0.1, 10)} # 범위 설정\n",
    "\n",
    "optimizer = BayesianOptimization(\n",
    "    f=train_acc,\n",
    "    pbounds=pbounds ,\n",
    "    random_state=1)\n",
    "\n",
    "optimizer.maximize(init_points=5 , n_iter= 30) "
   ]
  },
  {
   "cell_type": "code",
   "execution_count": 36,
   "id": "089b6cb5",
   "metadata": {
    "ExecuteTime": {
     "end_time": "2023-12-08T19:06:49.642407Z",
     "start_time": "2023-12-08T19:06:48.333907Z"
    }
   },
   "outputs": [
    {
     "name": "stdout",
     "output_type": "stream",
     "text": [
      "Mean Squared Error: 0.019251849019152795\n",
      "0.3349718005553173\n",
      "0.3350011256034777\n"
     ]
    },
    {
     "data": {
      "image/png": "[encoded data removed]",
      "text/plain": [
       "<Figure size 640x480 with 1 Axes>"
      ]
     },
     "metadata": {},
     "output_type": "display_data"
    }
   ],
   "source": [
    "from sklearn.linear_model import Ridge\n",
    "\n",
    "ridge_final = Ridge(alpha=10.0)\n",
    "ridge_final.fit(x_train, y_train)\n",
    "\n",
    "ridge_final_pred = ridge_final.predict(x_test)\n",
    "\n",
    "# 모델 평가\n",
    "mse = MSE(y_test, ridge_final_pred)\n",
    "print(f'Mean Squared Error: {mse}')\n",
    "\n",
    "# 결과 시각화 (예시\n",
    "x = np.linspace(0, 1, 10)\n",
    "\n",
    "print(ridge_final.score(x_train, y_train))\n",
    "print(ridge_final.score(x_test, y_test))\n",
    "plt.scatter(y_test,ridge_final_pred)\n",
    "plt.plot(x, x, '-r')\n",
    "plt.xlabel('Actual Values')\n",
    "plt.ylabel('Predicted Values')\n",
    "plt.xlim([-0.1, 1.1])\n",
    "plt.ylim([-0.1, 1.1])\n",
    "plt.show()"
   ]
  },
  {
   "cell_type": "markdown",
   "id": "09a770ec",
   "metadata": {},
   "source": [
    "# Decision Trees"
   ]
  },
  {
   "cell_type": "markdown",
   "id": "180bc112",
   "metadata": {},
   "source": [
    "## Model"
   ]
  },
  {
   "cell_type": "code",
   "execution_count": 37,
   "id": "7ece9f91",
   "metadata": {
    "ExecuteTime": {
     "end_time": "2023-12-08T19:06:57.824084Z",
     "start_time": "2023-12-08T19:06:52.115394Z"
    }
   },
   "outputs": [
    {
     "name": "stdout",
     "output_type": "stream",
     "text": [
      "Mean Squared Error: 1.9600645411886047e-06\n",
      "0.9999999999999997\n",
      "0.9999322952973329\n"
     ]
    },
    {
     "data": {
      "image/png": "[encoded data removed]",
      "text/plain": [
       "<Figure size 640x480 with 1 Axes>"
      ]
     },
     "metadata": {},
     "output_type": "display_data"
    }
   ],
   "source": [
    "from sklearn.tree import DecisionTreeRegressor\n",
    "\n",
    "dt = DecisionTreeRegressor()\n",
    "dt.fit(x_train, y_train)\n",
    "\n",
    "dt_pred = dt.predict(x_test)\n",
    "\n",
    "# 모델 평가\n",
    "mse = MSE(y_test, dt_pred)\n",
    "print(f'Mean Squared Error: {mse}')\n",
    "\n",
    "# 결과 시각화 (예시\n",
    "x = np.linspace(0, 1, 10)\n",
    "\n",
    "print(dt.score(x_train, y_train))\n",
    "print(dt.score(x_test, y_test))\n",
    "plt.scatter(y_test,dt_pred)\n",
    "plt.plot(x, x, '-r')\n",
    "plt.xlabel('Actual Values')\n",
    "plt.ylabel('Predicted Values')\n",
    "plt.xlim([-0.1, 1.1])\n",
    "plt.ylim([-0.1, 1.1])\n",
    "plt.show()"
   ]
  },
  {
   "cell_type": "markdown",
   "id": "4ec42bdc",
   "metadata": {},
   "source": [
    "# Random Forest"
   ]
  },
  {
   "cell_type": "code",
   "execution_count": 38,
   "id": "5aa4e13e",
   "metadata": {
    "ExecuteTime": {
     "end_time": "2023-12-08T19:07:00.391612Z",
     "start_time": "2023-12-08T19:07:00.271326Z"
    }
   },
   "outputs": [],
   "source": [
    "from sklearn.model_selection import train_test_split\n",
    "from sklearn.ensemble import RandomForestRegressor\n",
    "from sklearn.metrics import mean_squared_error"
   ]
  },
  {
   "cell_type": "markdown",
   "id": "8a70303c",
   "metadata": {},
   "source": [
    "## Model"
   ]
  },
  {
   "cell_type": "code",
   "execution_count": 41,
   "id": "c527e375",
   "metadata": {
    "ExecuteTime": {
     "end_time": "2023-12-08T19:10:22.364498Z",
     "start_time": "2023-12-08T19:10:10.772622Z"
    },
    "scrolled": false
   },
   "outputs": [
    {
     "ename": "MemoryError",
     "evalue": "could not allocate 117440512 bytes",
     "output_type": "error",
     "traceback": [
      "\u001b[1;31m---------------------------------------------------------------------------\u001b[0m",
      "\u001b[1;31mMemoryError\u001b[0m                               Traceback (most recent call last)",
      "\u001b[1;32md:\\temp\\ipykernel_16180\\180184321.py\u001b[0m in \u001b[0;36m<module>\u001b[1;34m\u001b[0m\n\u001b[0;32m      1\u001b[0m \u001b[0mrf\u001b[0m \u001b[1;33m=\u001b[0m \u001b[0mRandomForestRegressor\u001b[0m\u001b[1;33m(\u001b[0m\u001b[0mn_estimators\u001b[0m\u001b[1;33m=\u001b[0m\u001b[1;36m100\u001b[0m\u001b[1;33m,\u001b[0m \u001b[0mrandom_state\u001b[0m\u001b[1;33m=\u001b[0m\u001b[1;36m42\u001b[0m\u001b[1;33m)\u001b[0m\u001b[1;33m\u001b[0m\u001b[1;33m\u001b[0m\u001b[0m\n\u001b[1;32m----> 2\u001b[1;33m \u001b[0mrf\u001b[0m\u001b[1;33m.\u001b[0m\u001b[0mfit\u001b[0m\u001b[1;33m(\u001b[0m\u001b[0mx_train\u001b[0m\u001b[1;33m,\u001b[0m \u001b[0my_train\u001b[0m\u001b[1;33m)\u001b[0m\u001b[1;33m\u001b[0m\u001b[1;33m\u001b[0m\u001b[0m\n\u001b[0m\u001b[0;32m      3\u001b[0m \u001b[1;33m\u001b[0m\u001b[0m\n\u001b[0;32m      4\u001b[0m \u001b[0mrf_pred\u001b[0m \u001b[1;33m=\u001b[0m \u001b[0mrf\u001b[0m\u001b[1;33m.\u001b[0m\u001b[0mpredict\u001b[0m\u001b[1;33m(\u001b[0m\u001b[0mx_test\u001b[0m\u001b[1;33m)\u001b[0m\u001b[1;33m\u001b[0m\u001b[1;33m\u001b[0m\u001b[0m\n\u001b[0;32m      5\u001b[0m \u001b[1;31m# 모델 평가\u001b[0m\u001b[1;33m\u001b[0m\u001b[1;33m\u001b[0m\u001b[1;33m\u001b[0m\u001b[0m\n",
      "\u001b[1;32m~\\anaconda3\\envs\\project\\lib\\site-packages\\sklearn\\ensemble\\_forest.py\u001b[0m in \u001b[0;36mfit\u001b[1;34m(self, X, y, sample_weight)\u001b[0m\n\u001b[0;32m    465\u001b[0m                     \u001b[0mn_samples_bootstrap\u001b[0m\u001b[1;33m=\u001b[0m\u001b[0mn_samples_bootstrap\u001b[0m\u001b[1;33m,\u001b[0m\u001b[1;33m\u001b[0m\u001b[1;33m\u001b[0m\u001b[0m\n\u001b[0;32m    466\u001b[0m                 )\n\u001b[1;32m--> 467\u001b[1;33m                 \u001b[1;32mfor\u001b[0m \u001b[0mi\u001b[0m\u001b[1;33m,\u001b[0m \u001b[0mt\u001b[0m \u001b[1;32min\u001b[0m \u001b[0menumerate\u001b[0m\u001b[1;33m(\u001b[0m\u001b[0mtrees\u001b[0m\u001b[1;33m)\u001b[0m\u001b[1;33m\u001b[0m\u001b[1;33m\u001b[0m\u001b[0m\n\u001b[0m\u001b[0;32m    468\u001b[0m             )\n\u001b[0;32m    469\u001b[0m \u001b[1;33m\u001b[0m\u001b[0m\n",
      "\u001b[1;32m~\\anaconda3\\envs\\project\\lib\\site-packages\\joblib\\parallel.py\u001b[0m in \u001b[0;36m__call__\u001b[1;34m(self, iterable)\u001b[0m\n\u001b[0;32m   1049\u001b[0m                 \u001b[0mself\u001b[0m\u001b[1;33m.\u001b[0m\u001b[0m_iterating\u001b[0m \u001b[1;33m=\u001b[0m \u001b[0mself\u001b[0m\u001b[1;33m.\u001b[0m\u001b[0m_original_iterator\u001b[0m \u001b[1;32mis\u001b[0m \u001b[1;32mnot\u001b[0m \u001b[1;32mNone\u001b[0m\u001b[1;33m\u001b[0m\u001b[1;33m\u001b[0m\u001b[0m\n\u001b[0;32m   1050\u001b[0m \u001b[1;33m\u001b[0m\u001b[0m\n\u001b[1;32m-> 1051\u001b[1;33m             \u001b[1;32mwhile\u001b[0m \u001b[0mself\u001b[0m\u001b[1;33m.\u001b[0m\u001b[0mdispatch_one_batch\u001b[0m\u001b[1;33m(\u001b[0m\u001b[0miterator\u001b[0m\u001b[1;33m)\u001b[0m\u001b[1;33m:\u001b[0m\u001b[1;33m\u001b[0m\u001b[1;33m\u001b[0m\u001b[0m\n\u001b[0m\u001b[0;32m   1052\u001b[0m                 \u001b[1;32mpass\u001b[0m\u001b[1;33m\u001b[0m\u001b[1;33m\u001b[0m\u001b[0m\n\u001b[0;32m   1053\u001b[0m \u001b[1;33m\u001b[0m\u001b[0m\n",
      "\u001b[1;32m~\\anaconda3\\envs\\project\\lib\\site-packages\\joblib\\parallel.py\u001b[0m in \u001b[0;36mdispatch_one_batch\u001b[1;34m(self, iterator)\u001b[0m\n\u001b[0;32m    862\u001b[0m                 \u001b[1;32mreturn\u001b[0m \u001b[1;32mFalse\u001b[0m\u001b[1;33m\u001b[0m\u001b[1;33m\u001b[0m\u001b[0m\n\u001b[0;32m    863\u001b[0m             \u001b[1;32melse\u001b[0m\u001b[1;33m:\u001b[0m\u001b[1;33m\u001b[0m\u001b[1;33m\u001b[0m\u001b[0m\n\u001b[1;32m--> 864\u001b[1;33m                 \u001b[0mself\u001b[0m\u001b[1;33m.\u001b[0m\u001b[0m_dispatch\u001b[0m\u001b[1;33m(\u001b[0m\u001b[0mtasks\u001b[0m\u001b[1;33m)\u001b[0m\u001b[1;33m\u001b[0m\u001b[1;33m\u001b[0m\u001b[0m\n\u001b[0m\u001b[0;32m    865\u001b[0m                 \u001b[1;32mreturn\u001b[0m \u001b[1;32mTrue\u001b[0m\u001b[1;33m\u001b[0m\u001b[1;33m\u001b[0m\u001b[0m\n\u001b[0;32m    866\u001b[0m \u001b[1;33m\u001b[0m\u001b[0m\n",
      "\u001b[1;32m~\\anaconda3\\envs\\project\\lib\\site-packages\\joblib\\parallel.py\u001b[0m in \u001b[0;36m_dispatch\u001b[1;34m(self, batch)\u001b[0m\n\u001b[0;32m    780\u001b[0m         \u001b[1;32mwith\u001b[0m \u001b[0mself\u001b[0m\u001b[1;33m.\u001b[0m\u001b[0m_lock\u001b[0m\u001b[1;33m:\u001b[0m\u001b[1;33m\u001b[0m\u001b[1;33m\u001b[0m\u001b[0m\n\u001b[0;32m    781\u001b[0m             \u001b[0mjob_idx\u001b[0m \u001b[1;33m=\u001b[0m \u001b[0mlen\u001b[0m\u001b[1;33m(\u001b[0m\u001b[0mself\u001b[0m\u001b[1;33m.\u001b[0m\u001b[0m_jobs\u001b[0m\u001b[1;33m)\u001b[0m\u001b[1;33m\u001b[0m\u001b[1;33m\u001b[0m\u001b[0m\n\u001b[1;32m--> 782\u001b[1;33m             \u001b[0mjob\u001b[0m \u001b[1;33m=\u001b[0m \u001b[0mself\u001b[0m\u001b[1;33m.\u001b[0m\u001b[0m_backend\u001b[0m\u001b[1;33m.\u001b[0m\u001b[0mapply_async\u001b[0m\u001b[1;33m(\u001b[0m\u001b[0mbatch\u001b[0m\u001b[1;33m,\u001b[0m \u001b[0mcallback\u001b[0m\u001b[1;33m=\u001b[0m\u001b[0mcb\u001b[0m\u001b[1;33m)\u001b[0m\u001b[1;33m\u001b[0m\u001b[1;33m\u001b[0m\u001b[0m\n\u001b[0m\u001b[0;32m    783\u001b[0m             \u001b[1;31m# A job can complete so quickly than its callback is\u001b[0m\u001b[1;33m\u001b[0m\u001b[1;33m\u001b[0m\u001b[1;33m\u001b[0m\u001b[0m\n\u001b[0;32m    784\u001b[0m             \u001b[1;31m# called before we get here, causing self._jobs to\u001b[0m\u001b[1;33m\u001b[0m\u001b[1;33m\u001b[0m\u001b[1;33m\u001b[0m\u001b[0m\n",
      "\u001b[1;32m~\\anaconda3\\envs\\project\\lib\\site-packages\\joblib\\_parallel_backends.py\u001b[0m in \u001b[0;36mapply_async\u001b[1;34m(self, func, callback)\u001b[0m\n\u001b[0;32m    206\u001b[0m     \u001b[1;32mdef\u001b[0m \u001b[0mapply_async\u001b[0m\u001b[1;33m(\u001b[0m\u001b[0mself\u001b[0m\u001b[1;33m,\u001b[0m \u001b[0mfunc\u001b[0m\u001b[1;33m,\u001b[0m \u001b[0mcallback\u001b[0m\u001b[1;33m=\u001b[0m\u001b[1;32mNone\u001b[0m\u001b[1;33m)\u001b[0m\u001b[1;33m:\u001b[0m\u001b[1;33m\u001b[0m\u001b[1;33m\u001b[0m\u001b[0m\n\u001b[0;32m    207\u001b[0m         \u001b[1;34m\"\"\"Schedule a func to be run\"\"\"\u001b[0m\u001b[1;33m\u001b[0m\u001b[1;33m\u001b[0m\u001b[0m\n\u001b[1;32m--> 208\u001b[1;33m         \u001b[0mresult\u001b[0m \u001b[1;33m=\u001b[0m \u001b[0mImmediateResult\u001b[0m\u001b[1;33m(\u001b[0m\u001b[0mfunc\u001b[0m\u001b[1;33m)\u001b[0m\u001b[1;33m\u001b[0m\u001b[1;33m\u001b[0m\u001b[0m\n\u001b[0m\u001b[0;32m    209\u001b[0m         \u001b[1;32mif\u001b[0m \u001b[0mcallback\u001b[0m\u001b[1;33m:\u001b[0m\u001b[1;33m\u001b[0m\u001b[1;33m\u001b[0m\u001b[0m\n\u001b[0;32m    210\u001b[0m             \u001b[0mcallback\u001b[0m\u001b[1;33m(\u001b[0m\u001b[0mresult\u001b[0m\u001b[1;33m)\u001b[0m\u001b[1;33m\u001b[0m\u001b[1;33m\u001b[0m\u001b[0m\n",
      "\u001b[1;32m~\\anaconda3\\envs\\project\\lib\\site-packages\\joblib\\_parallel_backends.py\u001b[0m in \u001b[0;36m__init__\u001b[1;34m(self, batch)\u001b[0m\n\u001b[0;32m    570\u001b[0m         \u001b[1;31m# Don't delay the application, to avoid keeping the input\u001b[0m\u001b[1;33m\u001b[0m\u001b[1;33m\u001b[0m\u001b[1;33m\u001b[0m\u001b[0m\n\u001b[0;32m    571\u001b[0m         \u001b[1;31m# arguments in memory\u001b[0m\u001b[1;33m\u001b[0m\u001b[1;33m\u001b[0m\u001b[1;33m\u001b[0m\u001b[0m\n\u001b[1;32m--> 572\u001b[1;33m         \u001b[0mself\u001b[0m\u001b[1;33m.\u001b[0m\u001b[0mresults\u001b[0m \u001b[1;33m=\u001b[0m \u001b[0mbatch\u001b[0m\u001b[1;33m(\u001b[0m\u001b[1;33m)\u001b[0m\u001b[1;33m\u001b[0m\u001b[1;33m\u001b[0m\u001b[0m\n\u001b[0m\u001b[0;32m    573\u001b[0m \u001b[1;33m\u001b[0m\u001b[0m\n\u001b[0;32m    574\u001b[0m     \u001b[1;32mdef\u001b[0m \u001b[0mget\u001b[0m\u001b[1;33m(\u001b[0m\u001b[0mself\u001b[0m\u001b[1;33m)\u001b[0m\u001b[1;33m:\u001b[0m\u001b[1;33m\u001b[0m\u001b[1;33m\u001b[0m\u001b[0m\n",
      "\u001b[1;32m~\\anaconda3\\envs\\project\\lib\\site-packages\\joblib\\parallel.py\u001b[0m in \u001b[0;36m__call__\u001b[1;34m(self)\u001b[0m\n\u001b[0;32m    262\u001b[0m         \u001b[1;32mwith\u001b[0m \u001b[0mparallel_backend\u001b[0m\u001b[1;33m(\u001b[0m\u001b[0mself\u001b[0m\u001b[1;33m.\u001b[0m\u001b[0m_backend\u001b[0m\u001b[1;33m,\u001b[0m \u001b[0mn_jobs\u001b[0m\u001b[1;33m=\u001b[0m\u001b[0mself\u001b[0m\u001b[1;33m.\u001b[0m\u001b[0m_n_jobs\u001b[0m\u001b[1;33m)\u001b[0m\u001b[1;33m:\u001b[0m\u001b[1;33m\u001b[0m\u001b[1;33m\u001b[0m\u001b[0m\n\u001b[0;32m    263\u001b[0m             return [func(*args, **kwargs)\n\u001b[1;32m--> 264\u001b[1;33m                     for func, args, kwargs in self.items]\n\u001b[0m\u001b[0;32m    265\u001b[0m \u001b[1;33m\u001b[0m\u001b[0m\n\u001b[0;32m    266\u001b[0m     \u001b[1;32mdef\u001b[0m \u001b[0m__reduce__\u001b[0m\u001b[1;33m(\u001b[0m\u001b[0mself\u001b[0m\u001b[1;33m)\u001b[0m\u001b[1;33m:\u001b[0m\u001b[1;33m\u001b[0m\u001b[1;33m\u001b[0m\u001b[0m\n",
      "\u001b[1;32m~\\anaconda3\\envs\\project\\lib\\site-packages\\joblib\\parallel.py\u001b[0m in \u001b[0;36m<listcomp>\u001b[1;34m(.0)\u001b[0m\n\u001b[0;32m    262\u001b[0m         \u001b[1;32mwith\u001b[0m \u001b[0mparallel_backend\u001b[0m\u001b[1;33m(\u001b[0m\u001b[0mself\u001b[0m\u001b[1;33m.\u001b[0m\u001b[0m_backend\u001b[0m\u001b[1;33m,\u001b[0m \u001b[0mn_jobs\u001b[0m\u001b[1;33m=\u001b[0m\u001b[0mself\u001b[0m\u001b[1;33m.\u001b[0m\u001b[0m_n_jobs\u001b[0m\u001b[1;33m)\u001b[0m\u001b[1;33m:\u001b[0m\u001b[1;33m\u001b[0m\u001b[1;33m\u001b[0m\u001b[0m\n\u001b[0;32m    263\u001b[0m             return [func(*args, **kwargs)\n\u001b[1;32m--> 264\u001b[1;33m                     for func, args, kwargs in self.items]\n\u001b[0m\u001b[0;32m    265\u001b[0m \u001b[1;33m\u001b[0m\u001b[0m\n\u001b[0;32m    266\u001b[0m     \u001b[1;32mdef\u001b[0m \u001b[0m__reduce__\u001b[0m\u001b[1;33m(\u001b[0m\u001b[0mself\u001b[0m\u001b[1;33m)\u001b[0m\u001b[1;33m:\u001b[0m\u001b[1;33m\u001b[0m\u001b[1;33m\u001b[0m\u001b[0m\n",
      "\u001b[1;32m~\\anaconda3\\envs\\project\\lib\\site-packages\\sklearn\\utils\\fixes.py\u001b[0m in \u001b[0;36m__call__\u001b[1;34m(self, *args, **kwargs)\u001b[0m\n\u001b[0;32m    214\u001b[0m     \u001b[1;32mdef\u001b[0m \u001b[0m__call__\u001b[0m\u001b[1;33m(\u001b[0m\u001b[0mself\u001b[0m\u001b[1;33m,\u001b[0m \u001b[1;33m*\u001b[0m\u001b[0margs\u001b[0m\u001b[1;33m,\u001b[0m \u001b[1;33m**\u001b[0m\u001b[0mkwargs\u001b[0m\u001b[1;33m)\u001b[0m\u001b[1;33m:\u001b[0m\u001b[1;33m\u001b[0m\u001b[1;33m\u001b[0m\u001b[0m\n\u001b[0;32m    215\u001b[0m         \u001b[1;32mwith\u001b[0m \u001b[0mconfig_context\u001b[0m\u001b[1;33m(\u001b[0m\u001b[1;33m**\u001b[0m\u001b[0mself\u001b[0m\u001b[1;33m.\u001b[0m\u001b[0mconfig\u001b[0m\u001b[1;33m)\u001b[0m\u001b[1;33m:\u001b[0m\u001b[1;33m\u001b[0m\u001b[1;33m\u001b[0m\u001b[0m\n\u001b[1;32m--> 216\u001b[1;33m             \u001b[1;32mreturn\u001b[0m \u001b[0mself\u001b[0m\u001b[1;33m.\u001b[0m\u001b[0mfunction\u001b[0m\u001b[1;33m(\u001b[0m\u001b[1;33m*\u001b[0m\u001b[0margs\u001b[0m\u001b[1;33m,\u001b[0m \u001b[1;33m**\u001b[0m\u001b[0mkwargs\u001b[0m\u001b[1;33m)\u001b[0m\u001b[1;33m\u001b[0m\u001b[1;33m\u001b[0m\u001b[0m\n\u001b[0m\u001b[0;32m    217\u001b[0m \u001b[1;33m\u001b[0m\u001b[0m\n\u001b[0;32m    218\u001b[0m \u001b[1;33m\u001b[0m\u001b[0m\n",
      "\u001b[1;32m~\\anaconda3\\envs\\project\\lib\\site-packages\\sklearn\\ensemble\\_forest.py\u001b[0m in \u001b[0;36m_parallel_build_trees\u001b[1;34m(tree, forest, X, y, sample_weight, tree_idx, n_trees, verbose, class_weight, n_samples_bootstrap)\u001b[0m\n\u001b[0;32m    183\u001b[0m             \u001b[0mcurr_sample_weight\u001b[0m \u001b[1;33m*=\u001b[0m \u001b[0mcompute_sample_weight\u001b[0m\u001b[1;33m(\u001b[0m\u001b[1;34m\"balanced\"\u001b[0m\u001b[1;33m,\u001b[0m \u001b[0my\u001b[0m\u001b[1;33m,\u001b[0m \u001b[0mindices\u001b[0m\u001b[1;33m=\u001b[0m\u001b[0mindices\u001b[0m\u001b[1;33m)\u001b[0m\u001b[1;33m\u001b[0m\u001b[1;33m\u001b[0m\u001b[0m\n\u001b[0;32m    184\u001b[0m \u001b[1;33m\u001b[0m\u001b[0m\n\u001b[1;32m--> 185\u001b[1;33m         \u001b[0mtree\u001b[0m\u001b[1;33m.\u001b[0m\u001b[0mfit\u001b[0m\u001b[1;33m(\u001b[0m\u001b[0mX\u001b[0m\u001b[1;33m,\u001b[0m \u001b[0my\u001b[0m\u001b[1;33m,\u001b[0m \u001b[0msample_weight\u001b[0m\u001b[1;33m=\u001b[0m\u001b[0mcurr_sample_weight\u001b[0m\u001b[1;33m,\u001b[0m \u001b[0mcheck_input\u001b[0m\u001b[1;33m=\u001b[0m\u001b[1;32mFalse\u001b[0m\u001b[1;33m)\u001b[0m\u001b[1;33m\u001b[0m\u001b[1;33m\u001b[0m\u001b[0m\n\u001b[0m\u001b[0;32m    186\u001b[0m     \u001b[1;32melse\u001b[0m\u001b[1;33m:\u001b[0m\u001b[1;33m\u001b[0m\u001b[1;33m\u001b[0m\u001b[0m\n\u001b[0;32m    187\u001b[0m         \u001b[0mtree\u001b[0m\u001b[1;33m.\u001b[0m\u001b[0mfit\u001b[0m\u001b[1;33m(\u001b[0m\u001b[0mX\u001b[0m\u001b[1;33m,\u001b[0m \u001b[0my\u001b[0m\u001b[1;33m,\u001b[0m \u001b[0msample_weight\u001b[0m\u001b[1;33m=\u001b[0m\u001b[0msample_weight\u001b[0m\u001b[1;33m,\u001b[0m \u001b[0mcheck_input\u001b[0m\u001b[1;33m=\u001b[0m\u001b[1;32mFalse\u001b[0m\u001b[1;33m)\u001b[0m\u001b[1;33m\u001b[0m\u001b[1;33m\u001b[0m\u001b[0m\n",
      "\u001b[1;32m~\\anaconda3\\envs\\project\\lib\\site-packages\\sklearn\\tree\\_classes.py\u001b[0m in \u001b[0;36mfit\u001b[1;34m(self, X, y, sample_weight, check_input, X_idx_sorted)\u001b[0m\n\u001b[0;32m   1318\u001b[0m             \u001b[0msample_weight\u001b[0m\u001b[1;33m=\u001b[0m\u001b[0msample_weight\u001b[0m\u001b[1;33m,\u001b[0m\u001b[1;33m\u001b[0m\u001b[1;33m\u001b[0m\u001b[0m\n\u001b[0;32m   1319\u001b[0m             \u001b[0mcheck_input\u001b[0m\u001b[1;33m=\u001b[0m\u001b[0mcheck_input\u001b[0m\u001b[1;33m,\u001b[0m\u001b[1;33m\u001b[0m\u001b[1;33m\u001b[0m\u001b[0m\n\u001b[1;32m-> 1320\u001b[1;33m             \u001b[0mX_idx_sorted\u001b[0m\u001b[1;33m=\u001b[0m\u001b[0mX_idx_sorted\u001b[0m\u001b[1;33m,\u001b[0m\u001b[1;33m\u001b[0m\u001b[1;33m\u001b[0m\u001b[0m\n\u001b[0m\u001b[0;32m   1321\u001b[0m         )\n\u001b[0;32m   1322\u001b[0m         \u001b[1;32mreturn\u001b[0m \u001b[0mself\u001b[0m\u001b[1;33m\u001b[0m\u001b[1;33m\u001b[0m\u001b[0m\n",
      "\u001b[1;32m~\\anaconda3\\envs\\project\\lib\\site-packages\\sklearn\\tree\\_classes.py\u001b[0m in \u001b[0;36mfit\u001b[1;34m(self, X, y, sample_weight, check_input, X_idx_sorted)\u001b[0m\n\u001b[0;32m    418\u001b[0m             )\n\u001b[0;32m    419\u001b[0m \u001b[1;33m\u001b[0m\u001b[0m\n\u001b[1;32m--> 420\u001b[1;33m         \u001b[0mbuilder\u001b[0m\u001b[1;33m.\u001b[0m\u001b[0mbuild\u001b[0m\u001b[1;33m(\u001b[0m\u001b[0mself\u001b[0m\u001b[1;33m.\u001b[0m\u001b[0mtree_\u001b[0m\u001b[1;33m,\u001b[0m \u001b[0mX\u001b[0m\u001b[1;33m,\u001b[0m \u001b[0my\u001b[0m\u001b[1;33m,\u001b[0m \u001b[0msample_weight\u001b[0m\u001b[1;33m)\u001b[0m\u001b[1;33m\u001b[0m\u001b[1;33m\u001b[0m\u001b[0m\n\u001b[0m\u001b[0;32m    421\u001b[0m \u001b[1;33m\u001b[0m\u001b[0m\n\u001b[0;32m    422\u001b[0m         \u001b[1;32mif\u001b[0m \u001b[0mself\u001b[0m\u001b[1;33m.\u001b[0m\u001b[0mn_outputs_\u001b[0m \u001b[1;33m==\u001b[0m \u001b[1;36m1\u001b[0m \u001b[1;32mand\u001b[0m \u001b[0mis_classifier\u001b[0m\u001b[1;33m(\u001b[0m\u001b[0mself\u001b[0m\u001b[1;33m)\u001b[0m\u001b[1;33m:\u001b[0m\u001b[1;33m\u001b[0m\u001b[1;33m\u001b[0m\u001b[0m\n",
      "\u001b[1;32msklearn\\tree\\_tree.pyx\u001b[0m in \u001b[0;36msklearn.tree._tree.DepthFirstTreeBuilder.build\u001b[1;34m()\u001b[0m\n",
      "\u001b[1;32msklearn\\tree\\_tree.pyx\u001b[0m in \u001b[0;36msklearn.tree._tree.DepthFirstTreeBuilder.build\u001b[1;34m()\u001b[0m\n",
      "\u001b[1;32msklearn\\tree\\_tree.pyx\u001b[0m in \u001b[0;36msklearn.tree._tree.Tree._add_node\u001b[1;34m()\u001b[0m\n",
      "\u001b[1;32msklearn\\tree\\_tree.pyx\u001b[0m in \u001b[0;36msklearn.tree._tree.Tree._resize_c\u001b[1;34m()\u001b[0m\n",
      "\u001b[1;32msklearn\\tree\\_utils.pyx\u001b[0m in \u001b[0;36msklearn.tree._utils.safe_realloc\u001b[1;34m()\u001b[0m\n",
      "\u001b[1;31mMemoryError\u001b[0m: could not allocate 117440512 bytes"
     ]
    }
   ],
   "source": [
    "rf = RandomForestRegressor(n_estimators=100, random_state=42)\n",
    "rf.fit(x_train, y_train)\n",
    "\n",
    "rf_pred = rf.predict(x_test)\n",
    "# 모델 평가\n",
    "mse = MSE(y_test, rf_pred)\n",
    "print(f'Mean Squared Error: {mse}')\n",
    "\n",
    "# 결과 시각화 (예시\n",
    "x = np.linspace(0, 1, 10)\n",
    "\n",
    "print(rf.score(x_train, y_train))\n",
    "print(rf.score(x_test, y_test))\n",
    "plt.scatter(y_test,rf_pred)\n",
    "plt.plot(x, x, '-r')\n",
    "plt.xlabel('Actual Values')\n",
    "plt.ylabel('Predicted Values')\n",
    "plt.xlim([-0.1, 1.1])\n",
    "plt.ylim([-0.1, 1.1])\n",
    "plt.show()"
   ]
  },
  {
   "cell_type": "markdown",
   "id": "533c99bf",
   "metadata": {},
   "source": [
    "## Optimize"
   ]
  },
  {
   "cell_type": "code",
   "execution_count": null,
   "id": "ff327031",
   "metadata": {
    "ExecuteTime": {
     "start_time": "2023-12-08T16:26:36.812Z"
    },
    "scrolled": true
   },
   "outputs": [
    {
     "name": "stdout",
     "output_type": "stream",
     "text": [
      "|   iter    |  target   | n_esti... |\n",
      "-------------------------------------\n",
      "| \u001b[0m1        \u001b[0m | \u001b[0m1.0      \u001b[0m | \u001b[0m214.3    \u001b[0m |\n",
      "| \u001b[95m2        \u001b[0m | \u001b[95m1.0      \u001b[0m | \u001b[95m363.0    \u001b[0m |\n",
      "| \u001b[0m3        \u001b[0m | \u001b[0m1.0      \u001b[0m | \u001b[0m10.06    \u001b[0m |\n",
      "| \u001b[0m4        \u001b[0m | \u001b[0m1.0      \u001b[0m | \u001b[0m158.1    \u001b[0m |\n",
      "| \u001b[0m5        \u001b[0m | \u001b[0m1.0      \u001b[0m | \u001b[0m81.91    \u001b[0m |\n",
      "| \u001b[0m6        \u001b[0m | \u001b[0m1.0      \u001b[0m | \u001b[0m364.5    \u001b[0m |\n"
     ]
    }
   ],
   "source": [
    "from bayes_opt import BayesianOptimization\n",
    "\n",
    "def train_acc(n_estimators):\n",
    "    \n",
    "    rf_final = RandomForestRegressor(n_estimators=int(n_estimators), random_state=42)\n",
    "    rf_final.fit(x_train, y_train)\n",
    "    \n",
    "   # Validation\n",
    "    y_pred = rf_final.predict(x_test)\n",
    "    acc= rf_final.score(x_test, y_test)\n",
    "    \n",
    "    return acc\n",
    "\n",
    "pbounds = {'n_estimators': (10, 500)} # 범위 설정\n",
    "\n",
    "optimizer = BayesianOptimization(\n",
    "    f=train_acc,\n",
    "    pbounds=pbounds ,\n",
    "    random_state=1)\n",
    "\n",
    "optimizer.maximize(init_points=5 , n_iter= 50) "
   ]
  },
  {
   "cell_type": "code",
   "execution_count": 17,
   "id": "9592d756",
   "metadata": {
    "ExecuteTime": {
     "end_time": "2023-12-08T08:23:14.159043Z",
     "start_time": "2023-12-08T08:23:13.815963Z"
    }
   },
   "outputs": [
    {
     "name": "stdout",
     "output_type": "stream",
     "text": [
      "Mean Squared Error: T_mean    0.00020\n",
      "T_SD      0.00002\n",
      "dtype: float64\n",
      "0.996412359980736\n",
      "0.9862493069900307\n"
     ]
    },
    {
     "data": {
      "image/png": "[encoded data removed]",
      "text/plain": [
       "<Figure size 640x480 with 1 Axes>"
      ]
     },
     "metadata": {},
     "output_type": "display_data"
    }
   ],
   "source": [
    "rf_final = RandomForestRegressor(n_estimators=89, random_state=42)\n",
    "rf_final.fit(x_train, y_train)\n",
    "\n",
    "rf_final_pred = rf_final.predict(x_test)\n",
    "# 모델 평가\n",
    "mse = MSE(y_test, rf_final_pred)\n",
    "print(f'Mean Squared Error: {mse}')\n",
    "\n",
    "# 결과 시각화 (예시\n",
    "x = np.linspace(0, 1, 10)\n",
    "\n",
    "print(rf_final.score(x_train, y_train))\n",
    "print(rf_final.score(x_test, y_test))\n",
    "plt.scatter(y_test,rf_final_pred)\n",
    "plt.plot(x, x, '-r')\n",
    "plt.xlabel('Actual Values')\n",
    "plt.ylabel('Predicted Values')\n",
    "plt.xlim([-0.1, 1.1])\n",
    "plt.ylim([-0.1, 1.1])\n",
    "plt.show()"
   ]
  },
  {
   "cell_type": "markdown",
   "id": "b4582be1",
   "metadata": {},
   "source": [
    "# Support Vector Machines"
   ]
  },
  {
   "cell_type": "markdown",
   "id": "802e5994",
   "metadata": {},
   "source": [
    "## Model"
   ]
  },
  {
   "cell_type": "code",
   "execution_count": 16,
   "id": "ff97c496",
   "metadata": {
    "ExecuteTime": {
     "end_time": "2023-12-08T16:44:16.612930Z",
     "start_time": "2023-12-08T16:44:16.364894Z"
    }
   },
   "outputs": [
    {
     "ename": "ValueError",
     "evalue": "y must have at least two dimensions for multi-output regression but has only one.",
     "output_type": "error",
     "traceback": [
      "\u001b[1;31m---------------------------------------------------------------------------\u001b[0m",
      "\u001b[1;31mValueError\u001b[0m                                Traceback (most recent call last)",
      "\u001b[1;32md:\\temp\\ipykernel_10124\\2575569350.py\u001b[0m in \u001b[0;36m<module>\u001b[1;34m\u001b[0m\n\u001b[0;32m      3\u001b[0m \u001b[1;33m\u001b[0m\u001b[0m\n\u001b[0;32m      4\u001b[0m \u001b[0msvr\u001b[0m \u001b[1;33m=\u001b[0m \u001b[0mMultiOutputRegressor\u001b[0m\u001b[1;33m(\u001b[0m\u001b[0mSVR\u001b[0m\u001b[1;33m(\u001b[0m\u001b[0mkernel\u001b[0m\u001b[1;33m=\u001b[0m\u001b[1;34m'rbf'\u001b[0m\u001b[1;33m,\u001b[0m \u001b[0mgamma\u001b[0m\u001b[1;33m=\u001b[0m\u001b[1;36m0.1\u001b[0m\u001b[1;33m,\u001b[0m \u001b[0mC\u001b[0m\u001b[1;33m=\u001b[0m\u001b[1;36m0.1\u001b[0m\u001b[1;33m)\u001b[0m\u001b[1;33m)\u001b[0m\u001b[1;33m\u001b[0m\u001b[1;33m\u001b[0m\u001b[0m\n\u001b[1;32m----> 5\u001b[1;33m \u001b[0msvr\u001b[0m\u001b[1;33m.\u001b[0m\u001b[0mfit\u001b[0m\u001b[1;33m(\u001b[0m\u001b[0mx_train\u001b[0m\u001b[1;33m,\u001b[0m \u001b[0my_train\u001b[0m\u001b[1;33m)\u001b[0m\u001b[1;33m\u001b[0m\u001b[1;33m\u001b[0m\u001b[0m\n\u001b[0m\u001b[0;32m      6\u001b[0m \u001b[1;33m\u001b[0m\u001b[0m\n\u001b[0;32m      7\u001b[0m \u001b[0msvr_pred\u001b[0m \u001b[1;33m=\u001b[0m \u001b[0msvr\u001b[0m\u001b[1;33m.\u001b[0m\u001b[0mpredict\u001b[0m\u001b[1;33m(\u001b[0m\u001b[0mx_test\u001b[0m\u001b[1;33m)\u001b[0m\u001b[1;33m\u001b[0m\u001b[1;33m\u001b[0m\u001b[0m\n",
      "\u001b[1;32m~\\anaconda3\\envs\\project\\lib\\site-packages\\sklearn\\multioutput.py\u001b[0m in \u001b[0;36mfit\u001b[1;34m(self, X, y, sample_weight, **fit_params)\u001b[0m\n\u001b[0;32m    189\u001b[0m         \u001b[1;32mif\u001b[0m \u001b[0my\u001b[0m\u001b[1;33m.\u001b[0m\u001b[0mndim\u001b[0m \u001b[1;33m==\u001b[0m \u001b[1;36m1\u001b[0m\u001b[1;33m:\u001b[0m\u001b[1;33m\u001b[0m\u001b[1;33m\u001b[0m\u001b[0m\n\u001b[0;32m    190\u001b[0m             raise ValueError(\n\u001b[1;32m--> 191\u001b[1;33m                 \u001b[1;34m\"y must have at least two dimensions for \"\u001b[0m\u001b[1;33m\u001b[0m\u001b[1;33m\u001b[0m\u001b[0m\n\u001b[0m\u001b[0;32m    192\u001b[0m                 \u001b[1;34m\"multi-output regression but has only one.\"\u001b[0m\u001b[1;33m\u001b[0m\u001b[1;33m\u001b[0m\u001b[0m\n\u001b[0;32m    193\u001b[0m             )\n",
      "\u001b[1;31mValueError\u001b[0m: y must have at least two dimensions for multi-output regression but has only one."
     ]
    }
   ],
   "source": [
    "from sklearn.svm import SVR\n",
    "from sklearn.multioutput import MultiOutputRegressor\n",
    "\n",
    "svr = MultiOutputRegressor(SVR(kernel='rbf', gamma=0.1, C=0.1))\n",
    "svr.fit(x_train, y_train)\n",
    "\n",
    "svr_pred = svr.predict(x_test)\n",
    "# 모델 평가\n",
    "mse = MSE(y_test, svr_pred)\n",
    "print(f'Mean Squared Error: {mse}')\n",
    "\n",
    "# 결과 시각화 (예시\n",
    "x = np.linspace(0, 1, 10)\n",
    "\n",
    "print(svr.score(x_train, y_train))\n",
    "print(svr.score(x_test, y_test))\n",
    "plt.scatter(y_test,svr_pred)\n",
    "plt.plot(x, x, '-r')\n",
    "plt.xlabel('Actual Values')\n",
    "plt.ylabel('Predicted Values')\n",
    "plt.xlim([-0.1, 1.1])\n",
    "plt.ylim([-0.1, 1.1])\n",
    "plt.show()"
   ]
  },
  {
   "cell_type": "markdown",
   "id": "a342835a",
   "metadata": {},
   "source": [
    "## Optimize"
   ]
  },
  {
   "cell_type": "code",
   "execution_count": 19,
   "id": "c4efe495",
   "metadata": {
    "ExecuteTime": {
     "end_time": "2023-12-08T08:23:29.779475Z",
     "start_time": "2023-12-08T08:23:14.373662Z"
    },
    "scrolled": true
   },
   "outputs": [
    {
     "name": "stdout",
     "output_type": "stream",
     "text": [
      "|   iter    |  target   |     C     |   gamma   |\n",
      "-------------------------------------------------\n",
      "| \u001b[0m1        \u001b[0m | \u001b[0m-2.806   \u001b[0m | \u001b[0m4.229    \u001b[0m | \u001b[0m7.231    \u001b[0m |\n",
      "| \u001b[95m2        \u001b[0m | \u001b[95m-2.741   \u001b[0m | \u001b[95m0.1011   \u001b[0m | \u001b[95m3.093    \u001b[0m |\n",
      "| \u001b[95m3        \u001b[0m | \u001b[95m-2.566   \u001b[0m | \u001b[95m1.553    \u001b[0m | \u001b[95m1.014    \u001b[0m |\n",
      "| \u001b[0m4        \u001b[0m | \u001b[0m-2.728   \u001b[0m | \u001b[0m1.944    \u001b[0m | \u001b[0m3.521    \u001b[0m |\n",
      "| \u001b[0m5        \u001b[0m | \u001b[0m-2.776   \u001b[0m | \u001b[0m4.028    \u001b[0m | \u001b[0m5.434    \u001b[0m |\n",
      "| \u001b[95m6        \u001b[0m | \u001b[95m-0.3652  \u001b[0m | \u001b[95m2.958    \u001b[0m | \u001b[95m0.1      \u001b[0m |\n",
      "| \u001b[0m7        \u001b[0m | \u001b[0m-2.797   \u001b[0m | \u001b[0m8.317    \u001b[0m | \u001b[0m6.635    \u001b[0m |\n",
      "| \u001b[0m8        \u001b[0m | \u001b[0m-2.792   \u001b[0m | \u001b[0m1.578    \u001b[0m | \u001b[0m6.325    \u001b[0m |\n",
      "| \u001b[0m9        \u001b[0m | \u001b[0m-2.81    \u001b[0m | \u001b[0m0.9521   \u001b[0m | \u001b[0m7.611    \u001b[0m |\n",
      "| \u001b[0m10       \u001b[0m | \u001b[0m-0.3909  \u001b[0m | \u001b[0m3.381    \u001b[0m | \u001b[0m0.1      \u001b[0m |\n",
      "| \u001b[0m11       \u001b[0m | \u001b[0m-0.4187  \u001b[0m | \u001b[0m5.489    \u001b[0m | \u001b[0m0.1      \u001b[0m |\n",
      "| \u001b[0m12       \u001b[0m | \u001b[0m-0.4131  \u001b[0m | \u001b[0m7.592    \u001b[0m | \u001b[0m0.1      \u001b[0m |\n",
      "| \u001b[0m13       \u001b[0m | \u001b[0m-2.654   \u001b[0m | \u001b[0m6.885    \u001b[0m | \u001b[0m1.945    \u001b[0m |\n",
      "| \u001b[0m14       \u001b[0m | \u001b[0m-0.4102  \u001b[0m | \u001b[0m9.757    \u001b[0m | \u001b[0m0.1      \u001b[0m |\n",
      "| \u001b[0m15       \u001b[0m | \u001b[0m-2.656   \u001b[0m | \u001b[0m10.0     \u001b[0m | \u001b[0m1.918    \u001b[0m |\n",
      "| \u001b[0m16       \u001b[0m | \u001b[0m-2.838   \u001b[0m | \u001b[0m10.0     \u001b[0m | \u001b[0m10.0     \u001b[0m |\n",
      "| \u001b[0m17       \u001b[0m | \u001b[0m-0.4114  \u001b[0m | \u001b[0m8.727    \u001b[0m | \u001b[0m0.1      \u001b[0m |\n",
      "| \u001b[0m18       \u001b[0m | \u001b[0m-2.838   \u001b[0m | \u001b[0m5.787    \u001b[0m | \u001b[0m10.0     \u001b[0m |\n",
      "| \u001b[0m19       \u001b[0m | \u001b[0m-0.9205  \u001b[0m | \u001b[0m6.584    \u001b[0m | \u001b[0m0.1377   \u001b[0m |\n",
      "| \u001b[0m20       \u001b[0m | \u001b[0m-2.59    \u001b[0m | \u001b[0m4.423    \u001b[0m | \u001b[0m1.226    \u001b[0m |\n",
      "| \u001b[0m21       \u001b[0m | \u001b[0m-2.849   \u001b[0m | \u001b[0m0.1      \u001b[0m | \u001b[0m10.0     \u001b[0m |\n",
      "| \u001b[0m22       \u001b[0m | \u001b[0m-0.3688  \u001b[0m | \u001b[0m4.602    \u001b[0m | \u001b[0m0.1001   \u001b[0m |\n",
      "| \u001b[0m23       \u001b[0m | \u001b[0m-2.415   \u001b[0m | \u001b[0m8.175    \u001b[0m | \u001b[0m0.5946   \u001b[0m |\n",
      "| \u001b[0m24       \u001b[0m | \u001b[0m-2.509   \u001b[0m | \u001b[0m3.041    \u001b[0m | \u001b[0m0.8034   \u001b[0m |\n",
      "| \u001b[0m25       \u001b[0m | \u001b[0m-2.257   \u001b[0m | \u001b[0m9.296    \u001b[0m | \u001b[0m0.4376   \u001b[0m |\n",
      "| \u001b[0m26       \u001b[0m | \u001b[0m-0.441   \u001b[0m | \u001b[0m2.933    \u001b[0m | \u001b[0m0.1041   \u001b[0m |\n",
      "| \u001b[0m27       \u001b[0m | \u001b[0m-1.595   \u001b[0m | \u001b[0m5.032    \u001b[0m | \u001b[0m0.2137   \u001b[0m |\n",
      "| \u001b[0m28       \u001b[0m | \u001b[0m-1.192   \u001b[0m | \u001b[0m7.183    \u001b[0m | \u001b[0m0.1657   \u001b[0m |\n",
      "| \u001b[0m29       \u001b[0m | \u001b[0m-2.768   \u001b[0m | \u001b[0m4.668    \u001b[0m | \u001b[0m4.931    \u001b[0m |\n",
      "| \u001b[0m30       \u001b[0m | \u001b[0m-0.4189  \u001b[0m | \u001b[0m5.908    \u001b[0m | \u001b[0m0.1      \u001b[0m |\n",
      "| \u001b[0m31       \u001b[0m | \u001b[0m-1.35    \u001b[0m | \u001b[0m4.161    \u001b[0m | \u001b[0m0.1855   \u001b[0m |\n",
      "| \u001b[0m32       \u001b[0m | \u001b[0m-2.339   \u001b[0m | \u001b[0m5.755    \u001b[0m | \u001b[0m0.4964   \u001b[0m |\n",
      "| \u001b[0m33       \u001b[0m | \u001b[0m-0.6304  \u001b[0m | \u001b[0m9.999    \u001b[0m | \u001b[0m0.1132   \u001b[0m |\n",
      "| \u001b[0m34       \u001b[0m | \u001b[0m-1.692   \u001b[0m | \u001b[0m5.047    \u001b[0m | \u001b[0m0.2272   \u001b[0m |\n",
      "| \u001b[0m35       \u001b[0m | \u001b[0m-0.4523  \u001b[0m | \u001b[0m8.023    \u001b[0m | \u001b[0m0.1014   \u001b[0m |\n",
      "| \u001b[0m36       \u001b[0m | \u001b[0m-2.408   \u001b[0m | \u001b[0m9.984    \u001b[0m | \u001b[0m0.5752   \u001b[0m |\n",
      "| \u001b[0m37       \u001b[0m | \u001b[0m-2.481   \u001b[0m | \u001b[0m6.726    \u001b[0m | \u001b[0m0.7185   \u001b[0m |\n",
      "| \u001b[0m38       \u001b[0m | \u001b[0m-2.838   \u001b[0m | \u001b[0m2.952    \u001b[0m | \u001b[0m10.0     \u001b[0m |\n",
      "| \u001b[0m39       \u001b[0m | \u001b[0m-2.762   \u001b[0m | \u001b[0m8.963    \u001b[0m | \u001b[0m4.757    \u001b[0m |\n",
      "| \u001b[0m40       \u001b[0m | \u001b[0m-0.952   \u001b[0m | \u001b[0m8.397    \u001b[0m | \u001b[0m0.1394   \u001b[0m |\n",
      "| \u001b[0m41       \u001b[0m | \u001b[0m-2.633   \u001b[0m | \u001b[0m0.3762   \u001b[0m | \u001b[0m1.468    \u001b[0m |\n",
      "| \u001b[0m42       \u001b[0m | \u001b[0m-2.825   \u001b[0m | \u001b[0m7.901    \u001b[0m | \u001b[0m8.88     \u001b[0m |\n",
      "| \u001b[0m43       \u001b[0m | \u001b[0m-2.821   \u001b[0m | \u001b[0m8.835    \u001b[0m | \u001b[0m8.419    \u001b[0m |\n",
      "| \u001b[0m44       \u001b[0m | \u001b[0m-2.749   \u001b[0m | \u001b[0m6.762    \u001b[0m | \u001b[0m4.261    \u001b[0m |\n",
      "| \u001b[0m45       \u001b[0m | \u001b[0m-2.777   \u001b[0m | \u001b[0m0.7201   \u001b[0m | \u001b[0m5.321    \u001b[0m |\n",
      "| \u001b[0m46       \u001b[0m | \u001b[0m-2.807   \u001b[0m | \u001b[0m6.286    \u001b[0m | \u001b[0m7.209    \u001b[0m |\n",
      "| \u001b[0m47       \u001b[0m | \u001b[0m-2.686   \u001b[0m | \u001b[0m7.299    \u001b[0m | \u001b[0m2.491    \u001b[0m |\n",
      "| \u001b[0m48       \u001b[0m | \u001b[0m-2.822   \u001b[0m | \u001b[0m7.54     \u001b[0m | \u001b[0m8.602    \u001b[0m |\n",
      "| \u001b[0m49       \u001b[0m | \u001b[0m-2.711   \u001b[0m | \u001b[0m4.062    \u001b[0m | \u001b[0m3.081    \u001b[0m |\n",
      "| \u001b[0m50       \u001b[0m | \u001b[0m-2.797   \u001b[0m | \u001b[0m10.0     \u001b[0m | \u001b[0m6.624    \u001b[0m |\n",
      "| \u001b[0m51       \u001b[0m | \u001b[0m-2.817   \u001b[0m | \u001b[0m2.691    \u001b[0m | \u001b[0m8.2      \u001b[0m |\n",
      "| \u001b[0m52       \u001b[0m | \u001b[0m-1.985   \u001b[0m | \u001b[0m3.191    \u001b[0m | \u001b[0m0.2961   \u001b[0m |\n",
      "| \u001b[0m53       \u001b[0m | \u001b[0m-2.08    \u001b[0m | \u001b[0m7.711    \u001b[0m | \u001b[0m0.3367   \u001b[0m |\n",
      "| \u001b[0m54       \u001b[0m | \u001b[0m-1.088   \u001b[0m | \u001b[0m6.237    \u001b[0m | \u001b[0m0.1534   \u001b[0m |\n",
      "| \u001b[0m55       \u001b[0m | \u001b[0m-2.65    \u001b[0m | \u001b[0m2.02     \u001b[0m | \u001b[0m1.944    \u001b[0m |\n",
      "| \u001b[0m56       \u001b[0m | \u001b[0m-2.723   \u001b[0m | \u001b[0m5.666    \u001b[0m | \u001b[0m3.347    \u001b[0m |\n",
      "| \u001b[0m57       \u001b[0m | \u001b[0m-2.659   \u001b[0m | \u001b[0m7.788    \u001b[0m | \u001b[0m2.043    \u001b[0m |\n",
      "| \u001b[0m58       \u001b[0m | \u001b[0m-2.142   \u001b[0m | \u001b[0m4.567    \u001b[0m | \u001b[0m0.37     \u001b[0m |\n",
      "| \u001b[0m59       \u001b[0m | \u001b[0m-1.695   \u001b[0m | \u001b[0m5.066    \u001b[0m | \u001b[0m0.227    \u001b[0m |\n",
      "| \u001b[0m60       \u001b[0m | \u001b[0m-0.497   \u001b[0m | \u001b[0m3.726    \u001b[0m | \u001b[0m0.1027   \u001b[0m |\n",
      "| \u001b[0m61       \u001b[0m | \u001b[0m-2.83    \u001b[0m | \u001b[0m2.959    \u001b[0m | \u001b[0m9.506    \u001b[0m |\n",
      "| \u001b[0m62       \u001b[0m | \u001b[0m-2.178   \u001b[0m | \u001b[0m8.779    \u001b[0m | \u001b[0m0.3884   \u001b[0m |\n",
      "| \u001b[0m63       \u001b[0m | \u001b[0m-0.4109  \u001b[0m | \u001b[0m9.01     \u001b[0m | \u001b[0m0.1      \u001b[0m |\n",
      "| \u001b[0m64       \u001b[0m | \u001b[0m-2.798   \u001b[0m | \u001b[0m2.646    \u001b[0m | \u001b[0m6.675    \u001b[0m |\n",
      "| \u001b[0m65       \u001b[0m | \u001b[0m-0.4187  \u001b[0m | \u001b[0m9.399    \u001b[0m | \u001b[0m0.1006   \u001b[0m |\n",
      "| \u001b[0m66       \u001b[0m | \u001b[0m-0.5084  \u001b[0m | \u001b[0m2.139    \u001b[0m | \u001b[0m0.1102   \u001b[0m |\n",
      "| \u001b[0m67       \u001b[0m | \u001b[0m-0.7353  \u001b[0m | \u001b[0m1.711    \u001b[0m | \u001b[0m0.1248   \u001b[0m |\n",
      "| \u001b[0m68       \u001b[0m | \u001b[0m-2.283   \u001b[0m | \u001b[0m2.007    \u001b[0m | \u001b[0m0.4381   \u001b[0m |\n",
      "| \u001b[0m69       \u001b[0m | \u001b[0m-0.797   \u001b[0m | \u001b[0m1.266    \u001b[0m | \u001b[0m0.1177   \u001b[0m |\n",
      "| \u001b[0m70       \u001b[0m | \u001b[0m-0.8433  \u001b[0m | \u001b[0m0.7214   \u001b[0m | \u001b[0m0.1      \u001b[0m |\n",
      "| \u001b[0m71       \u001b[0m | \u001b[0m-1.884   \u001b[0m | \u001b[0m0.156    \u001b[0m | \u001b[0m0.1      \u001b[0m |\n",
      "| \u001b[0m72       \u001b[0m | \u001b[0m-2.397   \u001b[0m | \u001b[0m0.8772   \u001b[0m | \u001b[0m0.5456   \u001b[0m |\n",
      "| \u001b[0m73       \u001b[0m | \u001b[0m-2.729   \u001b[0m | \u001b[0m9.965    \u001b[0m | \u001b[0m3.588    \u001b[0m |\n",
      "| \u001b[0m74       \u001b[0m | \u001b[0m-0.7372  \u001b[0m | \u001b[0m2.484    \u001b[0m | \u001b[0m0.1219   \u001b[0m |\n",
      "| \u001b[0m75       \u001b[0m | \u001b[0m-2.825   \u001b[0m | \u001b[0m4.645    \u001b[0m | \u001b[0m8.84     \u001b[0m |\n",
      "| \u001b[0m76       \u001b[0m | \u001b[0m-2.81    \u001b[0m | \u001b[0m2.703    \u001b[0m | \u001b[0m7.568    \u001b[0m |\n",
      "| \u001b[0m77       \u001b[0m | \u001b[0m-2.781   \u001b[0m | \u001b[0m6.223    \u001b[0m | \u001b[0m5.656    \u001b[0m |\n",
      "| \u001b[0m78       \u001b[0m | \u001b[0m-2.765   \u001b[0m | \u001b[0m2.576    \u001b[0m | \u001b[0m4.89     \u001b[0m |\n",
      "| \u001b[0m79       \u001b[0m | \u001b[0m-2.779   \u001b[0m | \u001b[0m3.595    \u001b[0m | \u001b[0m5.473    \u001b[0m |\n",
      "| \u001b[0m80       \u001b[0m | \u001b[0m-0.6759  \u001b[0m | \u001b[0m3.367    \u001b[0m | \u001b[0m0.1154   \u001b[0m |\n",
      "| \u001b[0m81       \u001b[0m | \u001b[0m-0.9237  \u001b[0m | \u001b[0m3.601    \u001b[0m | \u001b[0m0.137    \u001b[0m |\n",
      "| \u001b[0m82       \u001b[0m | \u001b[0m-1.285   \u001b[0m | \u001b[0m5.674    \u001b[0m | \u001b[0m0.1768   \u001b[0m |\n",
      "| \u001b[0m83       \u001b[0m | \u001b[0m-2.811   \u001b[0m | \u001b[0m8.044    \u001b[0m | \u001b[0m7.768    \u001b[0m |\n",
      "| \u001b[0m84       \u001b[0m | \u001b[0m-2.777   \u001b[0m | \u001b[0m6.84     \u001b[0m | \u001b[0m5.337    \u001b[0m |\n",
      "| \u001b[0m85       \u001b[0m | \u001b[0m-2.836   \u001b[0m | \u001b[0m8.306    \u001b[0m | \u001b[0m9.852    \u001b[0m |\n",
      "| \u001b[0m86       \u001b[0m | \u001b[0m-2.054   \u001b[0m | \u001b[0m1.471    \u001b[0m | \u001b[0m0.3176   \u001b[0m |\n",
      "| \u001b[0m87       \u001b[0m | \u001b[0m-0.8284  \u001b[0m | \u001b[0m0.9686   \u001b[0m | \u001b[0m0.1091   \u001b[0m |\n",
      "| \u001b[0m88       \u001b[0m | \u001b[0m-1.512   \u001b[0m | \u001b[0m9.597    \u001b[0m | \u001b[0m0.202    \u001b[0m |\n",
      "| \u001b[0m89       \u001b[0m | \u001b[0m-0.425   \u001b[0m | \u001b[0m9.269    \u001b[0m | \u001b[0m0.1002   \u001b[0m |\n",
      "| \u001b[0m90       \u001b[0m | \u001b[0m-0.4511  \u001b[0m | \u001b[0m1.927    \u001b[0m | \u001b[0m0.1083   \u001b[0m |\n",
      "| \u001b[0m91       \u001b[0m | \u001b[0m-2.194   \u001b[0m | \u001b[0m2.537    \u001b[0m | \u001b[0m0.3853   \u001b[0m |\n",
      "| \u001b[0m92       \u001b[0m | \u001b[0m-0.7785  \u001b[0m | \u001b[0m4.771    \u001b[0m | \u001b[0m0.1209   \u001b[0m |\n",
      "| \u001b[0m93       \u001b[0m | \u001b[0m-2.51    \u001b[0m | \u001b[0m6.702    \u001b[0m | \u001b[0m0.8059   \u001b[0m |\n",
      "| \u001b[0m94       \u001b[0m | \u001b[0m-0.5134  \u001b[0m | \u001b[0m7.876    \u001b[0m | \u001b[0m0.1059   \u001b[0m |\n",
      "| \u001b[0m95       \u001b[0m | \u001b[0m-2.827   \u001b[0m | \u001b[0m1.399    \u001b[0m | \u001b[0m9.193    \u001b[0m |\n",
      "| \u001b[0m96       \u001b[0m | \u001b[0m-2.733   \u001b[0m | \u001b[0m0.9485   \u001b[0m | \u001b[0m3.634    \u001b[0m |\n",
      "| \u001b[0m97       \u001b[0m | \u001b[0m-2.685   \u001b[0m | \u001b[0m1.329    \u001b[0m | \u001b[0m2.45     \u001b[0m |\n",
      "| \u001b[0m98       \u001b[0m | \u001b[0m-2.724   \u001b[0m | \u001b[0m8.442    \u001b[0m | \u001b[0m3.396    \u001b[0m |\n",
      "| \u001b[0m99       \u001b[0m | \u001b[0m-2.801   \u001b[0m | \u001b[0m3.683    \u001b[0m | \u001b[0m6.812    \u001b[0m |\n",
      "| \u001b[0m100      \u001b[0m | \u001b[0m-1.641   \u001b[0m | \u001b[0m6.865    \u001b[0m | \u001b[0m0.2198   \u001b[0m |\n"
     ]
    },
    {
     "name": "stdout",
     "output_type": "stream",
     "text": [
      "| \u001b[0m101      \u001b[0m | \u001b[0m-0.4186  \u001b[0m | \u001b[0m5.322    \u001b[0m | \u001b[0m0.1      \u001b[0m |\n",
      "| \u001b[0m102      \u001b[0m | \u001b[0m-2.822   \u001b[0m | \u001b[0m6.061    \u001b[0m | \u001b[0m8.577    \u001b[0m |\n",
      "| \u001b[0m103      \u001b[0m | \u001b[0m-2.656   \u001b[0m | \u001b[0m5.563    \u001b[0m | \u001b[0m1.995    \u001b[0m |\n",
      "| \u001b[0m104      \u001b[0m | \u001b[0m-2.832   \u001b[0m | \u001b[0m0.1      \u001b[0m | \u001b[0m8.597    \u001b[0m |\n",
      "| \u001b[0m105      \u001b[0m | \u001b[0m-1.322   \u001b[0m | \u001b[0m5.669    \u001b[0m | \u001b[0m0.18     \u001b[0m |\n",
      "=================================================\n"
     ]
    }
   ],
   "source": [
    "def train_acc(gamma, C):\n",
    "    \n",
    "    svr_final = MultiOutputRegressor(SVR(kernel='rbf', gamma=gamma, C=C))\n",
    "    svr_final.fit(x_train, y_train)\n",
    "    \n",
    "   # Validation\n",
    "    y_pred = svr_final.predict(x_test)\n",
    "    acc= svr_final.score(x_test, y_test)\n",
    "    \n",
    "    return acc\n",
    "\n",
    "pbounds = {'gamma': (0.1, 10), 'C': (0.1, 10)} # 범위 설정\n",
    "\n",
    "optimizer = BayesianOptimization(\n",
    "    f=train_acc,\n",
    "    pbounds=pbounds ,\n",
    "    random_state=1)\n",
    "\n",
    "optimizer.maximize(init_points=5 , n_iter= 100) "
   ]
  },
  {
   "cell_type": "code",
   "execution_count": 20,
   "id": "30e4a509",
   "metadata": {
    "ExecuteTime": {
     "end_time": "2023-12-08T08:23:29.978362Z",
     "start_time": "2023-12-08T08:23:29.781470Z"
    }
   },
   "outputs": [
    {
     "name": "stdout",
     "output_type": "stream",
     "text": [
      "Mean Squared Error: T_mean    0.006821\n",
      "T_SD      0.001405\n",
      "dtype: float64\n",
      "0.3289839295922875\n",
      "0.16074319760105232\n"
     ]
    },
    {
     "data": {
      "image/png": "[encoded data removed]",
      "text/plain": [
       "<Figure size 640x480 with 1 Axes>"
      ]
     },
     "metadata": {},
     "output_type": "display_data"
    }
   ],
   "source": [
    "from sklearn.svm import SVR\n",
    "from sklearn.multioutput import MultiOutputRegressor\n",
    "\n",
    "svr_final = MultiOutputRegressor(SVR(kernel='rbf', gamma=0.04943, C=3.237))\n",
    "svr_final.fit(x_train, y_train)\n",
    "\n",
    "svr_final_pred = svr_final.predict(x_test)\n",
    "\n",
    "# 모델 평가\n",
    "mse = MSE(y_test, svr_final_pred)\n",
    "print(f'Mean Squared Error: {mse}')\n",
    "\n",
    "# 결과 시각화 (예시\n",
    "x = np.linspace(0, 1, 10)\n",
    "\n",
    "print(svr_final.score(x_train, y_train))\n",
    "print(svr_final.score(x_test, y_test))\n",
    "plt.scatter(y_test,svr_final_pred)\n",
    "plt.plot(x, x, '-r')\n",
    "plt.xlabel('Actual Values')\n",
    "plt.ylabel('Predicted Values')\n",
    "plt.xlim([-0.1, 1.1])\n",
    "plt.ylim([-0.1, 1.1])\n",
    "plt.show()"
   ]
  },
  {
   "cell_type": "markdown",
   "id": "7def06b4",
   "metadata": {},
   "source": [
    "# Neural Networks"
   ]
  },
  {
   "cell_type": "markdown",
   "id": "fe65f899",
   "metadata": {},
   "source": [
    "## Model"
   ]
  },
  {
   "cell_type": "code",
   "execution_count": 20,
   "id": "cb64f4b4",
   "metadata": {
    "ExecuteTime": {
     "end_time": "2023-12-08T16:58:45.316725Z",
     "start_time": "2023-12-08T16:45:32.954198Z"
    },
    "code_folding": [],
    "scrolled": false
   },
   "outputs": [
    {
     "name": "stdout",
     "output_type": "stream",
     "text": [
      "Epoch 1/50\n",
      "12124/12124 [==============================] - 16s 1ms/step - loss: 0.0073 - val_loss: 0.0031\n",
      "Epoch 2/50\n",
      "12124/12124 [==============================] - 16s 1ms/step - loss: 0.0021 - val_loss: 0.0019\n",
      "Epoch 3/50\n",
      "12124/12124 [==============================] - 16s 1ms/step - loss: 0.0011 - val_loss: 9.1782e-04\n",
      "Epoch 4/50\n",
      "12124/12124 [==============================] - 17s 1ms/step - loss: 8.3658e-04 - val_loss: 0.0018\n",
      "Epoch 5/50\n",
      "12124/12124 [==============================] - 16s 1ms/step - loss: 6.8275e-04 - val_loss: 6.0263e-04\n",
      "Epoch 6/50\n",
      "12124/12124 [==============================] - 16s 1ms/step - loss: 5.7330e-04 - val_loss: 3.3352e-04\n",
      "Epoch 7/50\n",
      "12124/12124 [==============================] - 16s 1ms/step - loss: 5.1765e-04 - val_loss: 3.8418e-04\n",
      "Epoch 8/50\n",
      "12124/12124 [==============================] - 16s 1ms/step - loss: 4.5910e-04 - val_loss: 3.2554e-04\n",
      "Epoch 9/50\n",
      "12124/12124 [==============================] - 16s 1ms/step - loss: 4.1151e-04 - val_loss: 2.8415e-04\n",
      "Epoch 10/50\n",
      "12124/12124 [==============================] - 16s 1ms/step - loss: 3.7459e-04 - val_loss: 6.3260e-04\n",
      "Epoch 11/50\n",
      "12124/12124 [==============================] - 16s 1ms/step - loss: 3.3776e-04 - val_loss: 2.6335e-04\n",
      "Epoch 12/50\n",
      "12124/12124 [==============================] - 16s 1ms/step - loss: 3.0838e-04 - val_loss: 2.0530e-04\n",
      "Epoch 13/50\n",
      "12124/12124 [==============================] - 16s 1ms/step - loss: 2.8775e-04 - val_loss: 2.0226e-04\n",
      "Epoch 14/50\n",
      "12124/12124 [==============================] - 16s 1ms/step - loss: 2.7095e-04 - val_loss: 3.8492e-04\n",
      "Epoch 15/50\n",
      "12124/12124 [==============================] - 16s 1ms/step - loss: 2.6760e-04 - val_loss: 2.2334e-04\n",
      "Epoch 16/50\n",
      "12124/12124 [==============================] - 16s 1ms/step - loss: 2.5688e-04 - val_loss: 2.6013e-04\n",
      "Epoch 17/50\n",
      "12124/12124 [==============================] - 16s 1ms/step - loss: 2.4390e-04 - val_loss: 6.3376e-04\n",
      "Epoch 18/50\n",
      "12124/12124 [==============================] - 15s 1ms/step - loss: 2.3504e-04 - val_loss: 1.7845e-04\n",
      "Epoch 19/50\n",
      "12124/12124 [==============================] - 16s 1ms/step - loss: 2.2827e-04 - val_loss: 1.6877e-04\n",
      "Epoch 20/50\n",
      "12124/12124 [==============================] - 16s 1ms/step - loss: 2.2794e-04 - val_loss: 3.1456e-04\n",
      "Epoch 21/50\n",
      "12124/12124 [==============================] - 16s 1ms/step - loss: 2.1829e-04 - val_loss: 2.1180e-04\n",
      "Epoch 22/50\n",
      "12124/12124 [==============================] - 16s 1ms/step - loss: 2.0712e-04 - val_loss: 1.4895e-04\n",
      "Epoch 23/50\n",
      "12124/12124 [==============================] - 16s 1ms/step - loss: 2.0059e-04 - val_loss: 2.0976e-04\n",
      "Epoch 24/50\n",
      "12124/12124 [==============================] - 16s 1ms/step - loss: 1.9528e-04 - val_loss: 1.2957e-04\n",
      "Epoch 25/50\n",
      "12124/12124 [==============================] - 16s 1ms/step - loss: 1.9286e-04 - val_loss: 1.4935e-04\n",
      "Epoch 26/50\n",
      "12124/12124 [==============================] - 16s 1ms/step - loss: 1.8726e-04 - val_loss: 1.2478e-04\n",
      "Epoch 27/50\n",
      "12124/12124 [==============================] - 16s 1ms/step - loss: 1.8277e-04 - val_loss: 2.5978e-04\n",
      "Epoch 28/50\n",
      "12124/12124 [==============================] - 16s 1ms/step - loss: 1.7614e-04 - val_loss: 1.6230e-04\n",
      "Epoch 29/50\n",
      "12124/12124 [==============================] - 16s 1ms/step - loss: 1.7654e-04 - val_loss: 1.6639e-04\n",
      "Epoch 30/50\n",
      "12124/12124 [==============================] - 16s 1ms/step - loss: 1.7362e-04 - val_loss: 1.4788e-04\n",
      "Epoch 31/50\n",
      "12124/12124 [==============================] - 16s 1ms/step - loss: 1.7269e-04 - val_loss: 1.7795e-04\n",
      "Epoch 32/50\n",
      "12124/12124 [==============================] - 16s 1ms/step - loss: 1.7062e-04 - val_loss: 1.2626e-04\n",
      "Epoch 33/50\n",
      "12124/12124 [==============================] - 16s 1ms/step - loss: 1.6689e-04 - val_loss: 1.5762e-04\n",
      "Epoch 34/50\n",
      "12124/12124 [==============================] - 16s 1ms/step - loss: 1.6370e-04 - val_loss: 1.3852e-04\n",
      "Epoch 35/50\n",
      "12124/12124 [==============================] - 16s 1ms/step - loss: 1.6309e-04 - val_loss: 1.0952e-04\n",
      "Epoch 36/50\n",
      "12124/12124 [==============================] - 16s 1ms/step - loss: 1.6215e-04 - val_loss: 1.3616e-04\n",
      "Epoch 37/50\n",
      "12124/12124 [==============================] - 16s 1ms/step - loss: 1.6150e-04 - val_loss: 1.3573e-04\n",
      "Epoch 38/50\n",
      "12124/12124 [==============================] - 16s 1ms/step - loss: 1.5805e-04 - val_loss: 1.1466e-04\n",
      "Epoch 39/50\n",
      "12124/12124 [==============================] - 16s 1ms/step - loss: 1.6058e-04 - val_loss: 1.1890e-04\n",
      "Epoch 40/50\n",
      "12124/12124 [==============================] - 16s 1ms/step - loss: 1.5685e-04 - val_loss: 1.0755e-04\n",
      "Epoch 41/50\n",
      "12124/12124 [==============================] - 16s 1ms/step - loss: 1.5497e-04 - val_loss: 2.2369e-04\n",
      "Epoch 42/50\n",
      "12124/12124 [==============================] - 16s 1ms/step - loss: 1.5450e-04 - val_loss: 1.1207e-04\n",
      "Epoch 43/50\n",
      "12124/12124 [==============================] - 15s 1ms/step - loss: 1.5152e-04 - val_loss: 1.2896e-04\n",
      "Epoch 44/50\n",
      "12124/12124 [==============================] - 16s 1ms/step - loss: 1.5281e-04 - val_loss: 1.0501e-04\n",
      "Epoch 45/50\n",
      "12124/12124 [==============================] - 15s 1ms/step - loss: 1.5205e-04 - val_loss: 1.3334e-04\n",
      "Epoch 46/50\n",
      "12124/12124 [==============================] - 16s 1ms/step - loss: 1.4937e-04 - val_loss: 9.1063e-05\n",
      "Epoch 47/50\n",
      "12124/12124 [==============================] - 16s 1ms/step - loss: 1.4984e-04 - val_loss: 1.1890e-04\n",
      "Epoch 48/50\n",
      "12124/12124 [==============================] - 16s 1ms/step - loss: 1.4757e-04 - val_loss: 9.4345e-05\n",
      "Epoch 49/50\n",
      "12124/12124 [==============================] - 16s 1ms/step - loss: 1.4484e-04 - val_loss: 1.4099e-04\n",
      "Epoch 50/50\n",
      "12124/12124 [==============================] - 16s 1ms/step - loss: 1.4624e-04 - val_loss: 9.1558e-05\n",
      "3248/3248 [==============================] - 3s 990us/step\n"
     ]
    },
    {
     "ename": "MemoryError",
     "evalue": "Unable to allocate 80.5 GiB for an array with shape (103914, 103914) and data type float64",
     "output_type": "error",
     "traceback": [
      "\u001b[1;31m---------------------------------------------------------------------------\u001b[0m",
      "\u001b[1;31mMemoryError\u001b[0m                               Traceback (most recent call last)",
      "\u001b[1;32md:\\temp\\ipykernel_10124\\2131799748.py\u001b[0m in \u001b[0;36m<module>\u001b[1;34m\u001b[0m\n\u001b[0;32m     17\u001b[0m \u001b[1;33m\u001b[0m\u001b[0m\n\u001b[0;32m     18\u001b[0m \u001b[1;31m# 모델 평가\u001b[0m\u001b[1;33m\u001b[0m\u001b[1;33m\u001b[0m\u001b[1;33m\u001b[0m\u001b[0m\n\u001b[1;32m---> 19\u001b[1;33m \u001b[0mmse\u001b[0m \u001b[1;33m=\u001b[0m \u001b[0mMSE\u001b[0m\u001b[1;33m(\u001b[0m\u001b[0my_test\u001b[0m\u001b[1;33m,\u001b[0m \u001b[0mnn_pred\u001b[0m\u001b[1;33m)\u001b[0m\u001b[1;33m\u001b[0m\u001b[1;33m\u001b[0m\u001b[0m\n\u001b[0m\u001b[0;32m     20\u001b[0m \u001b[0mprint\u001b[0m\u001b[1;33m(\u001b[0m\u001b[1;34mf'Mean Squared Error: {mse}'\u001b[0m\u001b[1;33m)\u001b[0m\u001b[1;33m\u001b[0m\u001b[1;33m\u001b[0m\u001b[0m\n\u001b[0;32m     21\u001b[0m \u001b[1;33m\u001b[0m\u001b[0m\n",
      "\u001b[1;32md:\\temp\\ipykernel_10124\\2416927541.py\u001b[0m in \u001b[0;36mMSE\u001b[1;34m(real, predict)\u001b[0m\n\u001b[0;32m      1\u001b[0m \u001b[1;31m# Loss function\u001b[0m\u001b[1;33m\u001b[0m\u001b[1;33m\u001b[0m\u001b[1;33m\u001b[0m\u001b[0m\n\u001b[0;32m      2\u001b[0m \u001b[1;32mdef\u001b[0m \u001b[0mMSE\u001b[0m\u001b[1;33m(\u001b[0m\u001b[0mreal\u001b[0m\u001b[1;33m,\u001b[0m \u001b[0mpredict\u001b[0m\u001b[1;33m)\u001b[0m\u001b[1;33m:\u001b[0m\u001b[1;33m\u001b[0m\u001b[1;33m\u001b[0m\u001b[0m\n\u001b[1;32m----> 3\u001b[1;33m     \u001b[0merror\u001b[0m \u001b[1;33m=\u001b[0m \u001b[1;33m(\u001b[0m\u001b[1;33m(\u001b[0m\u001b[0mreal\u001b[0m\u001b[1;33m-\u001b[0m\u001b[0mpredict\u001b[0m\u001b[1;33m)\u001b[0m\u001b[1;33m**\u001b[0m\u001b[1;36m2\u001b[0m\u001b[1;33m)\u001b[0m\u001b[1;33m.\u001b[0m\u001b[0mmean\u001b[0m\u001b[1;33m(\u001b[0m\u001b[1;33m)\u001b[0m\u001b[1;33m\u001b[0m\u001b[1;33m\u001b[0m\u001b[0m\n\u001b[0m\u001b[0;32m      4\u001b[0m \u001b[1;33m\u001b[0m\u001b[0m\n\u001b[0;32m      5\u001b[0m     \u001b[1;32mreturn\u001b[0m \u001b[0merror\u001b[0m\u001b[1;33m\u001b[0m\u001b[1;33m\u001b[0m\u001b[0m\n",
      "\u001b[1;32m~\\anaconda3\\envs\\project\\lib\\site-packages\\pandas\\core\\ops\\common.py\u001b[0m in \u001b[0;36mnew_method\u001b[1;34m(self, other)\u001b[0m\n\u001b[0;32m     67\u001b[0m         \u001b[0mother\u001b[0m \u001b[1;33m=\u001b[0m \u001b[0mitem_from_zerodim\u001b[0m\u001b[1;33m(\u001b[0m\u001b[0mother\u001b[0m\u001b[1;33m)\u001b[0m\u001b[1;33m\u001b[0m\u001b[1;33m\u001b[0m\u001b[0m\n\u001b[0;32m     68\u001b[0m \u001b[1;33m\u001b[0m\u001b[0m\n\u001b[1;32m---> 69\u001b[1;33m         \u001b[1;32mreturn\u001b[0m \u001b[0mmethod\u001b[0m\u001b[1;33m(\u001b[0m\u001b[0mself\u001b[0m\u001b[1;33m,\u001b[0m \u001b[0mother\u001b[0m\u001b[1;33m)\u001b[0m\u001b[1;33m\u001b[0m\u001b[1;33m\u001b[0m\u001b[0m\n\u001b[0m\u001b[0;32m     70\u001b[0m \u001b[1;33m\u001b[0m\u001b[0m\n\u001b[0;32m     71\u001b[0m     \u001b[1;32mreturn\u001b[0m \u001b[0mnew_method\u001b[0m\u001b[1;33m\u001b[0m\u001b[1;33m\u001b[0m\u001b[0m\n",
      "\u001b[1;32m~\\anaconda3\\envs\\project\\lib\\site-packages\\pandas\\core\\arraylike.py\u001b[0m in \u001b[0;36m__sub__\u001b[1;34m(self, other)\u001b[0m\n\u001b[0;32m     98\u001b[0m     \u001b[1;33m@\u001b[0m\u001b[0munpack_zerodim_and_defer\u001b[0m\u001b[1;33m(\u001b[0m\u001b[1;34m\"__sub__\"\u001b[0m\u001b[1;33m)\u001b[0m\u001b[1;33m\u001b[0m\u001b[1;33m\u001b[0m\u001b[0m\n\u001b[0;32m     99\u001b[0m     \u001b[1;32mdef\u001b[0m \u001b[0m__sub__\u001b[0m\u001b[1;33m(\u001b[0m\u001b[0mself\u001b[0m\u001b[1;33m,\u001b[0m \u001b[0mother\u001b[0m\u001b[1;33m)\u001b[0m\u001b[1;33m:\u001b[0m\u001b[1;33m\u001b[0m\u001b[1;33m\u001b[0m\u001b[0m\n\u001b[1;32m--> 100\u001b[1;33m         \u001b[1;32mreturn\u001b[0m \u001b[0mself\u001b[0m\u001b[1;33m.\u001b[0m\u001b[0m_arith_method\u001b[0m\u001b[1;33m(\u001b[0m\u001b[0mother\u001b[0m\u001b[1;33m,\u001b[0m \u001b[0moperator\u001b[0m\u001b[1;33m.\u001b[0m\u001b[0msub\u001b[0m\u001b[1;33m)\u001b[0m\u001b[1;33m\u001b[0m\u001b[1;33m\u001b[0m\u001b[0m\n\u001b[0m\u001b[0;32m    101\u001b[0m \u001b[1;33m\u001b[0m\u001b[0m\n\u001b[0;32m    102\u001b[0m     \u001b[1;33m@\u001b[0m\u001b[0munpack_zerodim_and_defer\u001b[0m\u001b[1;33m(\u001b[0m\u001b[1;34m\"__rsub__\"\u001b[0m\u001b[1;33m)\u001b[0m\u001b[1;33m\u001b[0m\u001b[1;33m\u001b[0m\u001b[0m\n",
      "\u001b[1;32m~\\anaconda3\\envs\\project\\lib\\site-packages\\pandas\\core\\series.py\u001b[0m in \u001b[0;36m_arith_method\u001b[1;34m(self, other, op)\u001b[0m\n\u001b[0;32m   5524\u001b[0m \u001b[1;33m\u001b[0m\u001b[0m\n\u001b[0;32m   5525\u001b[0m         \u001b[1;32mwith\u001b[0m \u001b[0mnp\u001b[0m\u001b[1;33m.\u001b[0m\u001b[0merrstate\u001b[0m\u001b[1;33m(\u001b[0m\u001b[0mall\u001b[0m\u001b[1;33m=\u001b[0m\u001b[1;34m\"ignore\"\u001b[0m\u001b[1;33m)\u001b[0m\u001b[1;33m:\u001b[0m\u001b[1;33m\u001b[0m\u001b[1;33m\u001b[0m\u001b[0m\n\u001b[1;32m-> 5526\u001b[1;33m             \u001b[0mresult\u001b[0m \u001b[1;33m=\u001b[0m \u001b[0mops\u001b[0m\u001b[1;33m.\u001b[0m\u001b[0marithmetic_op\u001b[0m\u001b[1;33m(\u001b[0m\u001b[0mlvalues\u001b[0m\u001b[1;33m,\u001b[0m \u001b[0mrvalues\u001b[0m\u001b[1;33m,\u001b[0m \u001b[0mop\u001b[0m\u001b[1;33m)\u001b[0m\u001b[1;33m\u001b[0m\u001b[1;33m\u001b[0m\u001b[0m\n\u001b[0m\u001b[0;32m   5527\u001b[0m \u001b[1;33m\u001b[0m\u001b[0m\n\u001b[0;32m   5528\u001b[0m         \u001b[1;32mreturn\u001b[0m \u001b[0mself\u001b[0m\u001b[1;33m.\u001b[0m\u001b[0m_construct_result\u001b[0m\u001b[1;33m(\u001b[0m\u001b[0mresult\u001b[0m\u001b[1;33m,\u001b[0m \u001b[0mname\u001b[0m\u001b[1;33m=\u001b[0m\u001b[0mres_name\u001b[0m\u001b[1;33m)\u001b[0m\u001b[1;33m\u001b[0m\u001b[1;33m\u001b[0m\u001b[0m\n",
      "\u001b[1;32m~\\anaconda3\\envs\\project\\lib\\site-packages\\pandas\\core\\ops\\array_ops.py\u001b[0m in \u001b[0;36marithmetic_op\u001b[1;34m(left, right, op)\u001b[0m\n\u001b[0;32m    222\u001b[0m         \u001b[0m_bool_arith_check\u001b[0m\u001b[1;33m(\u001b[0m\u001b[0mop\u001b[0m\u001b[1;33m,\u001b[0m \u001b[0mleft\u001b[0m\u001b[1;33m,\u001b[0m \u001b[0mright\u001b[0m\u001b[1;33m)\u001b[0m\u001b[1;33m\u001b[0m\u001b[1;33m\u001b[0m\u001b[0m\n\u001b[0;32m    223\u001b[0m \u001b[1;33m\u001b[0m\u001b[0m\n\u001b[1;32m--> 224\u001b[1;33m         \u001b[0mres_values\u001b[0m \u001b[1;33m=\u001b[0m \u001b[0m_na_arithmetic_op\u001b[0m\u001b[1;33m(\u001b[0m\u001b[0mleft\u001b[0m\u001b[1;33m,\u001b[0m \u001b[0mright\u001b[0m\u001b[1;33m,\u001b[0m \u001b[0mop\u001b[0m\u001b[1;33m)\u001b[0m\u001b[1;33m\u001b[0m\u001b[1;33m\u001b[0m\u001b[0m\n\u001b[0m\u001b[0;32m    225\u001b[0m \u001b[1;33m\u001b[0m\u001b[0m\n\u001b[0;32m    226\u001b[0m     \u001b[1;32mreturn\u001b[0m \u001b[0mres_values\u001b[0m\u001b[1;33m\u001b[0m\u001b[1;33m\u001b[0m\u001b[0m\n",
      "\u001b[1;32m~\\anaconda3\\envs\\project\\lib\\site-packages\\pandas\\core\\ops\\array_ops.py\u001b[0m in \u001b[0;36m_na_arithmetic_op\u001b[1;34m(left, right, op, is_cmp)\u001b[0m\n\u001b[0;32m    164\u001b[0m \u001b[1;33m\u001b[0m\u001b[0m\n\u001b[0;32m    165\u001b[0m     \u001b[1;32mtry\u001b[0m\u001b[1;33m:\u001b[0m\u001b[1;33m\u001b[0m\u001b[1;33m\u001b[0m\u001b[0m\n\u001b[1;32m--> 166\u001b[1;33m         \u001b[0mresult\u001b[0m \u001b[1;33m=\u001b[0m \u001b[0mfunc\u001b[0m\u001b[1;33m(\u001b[0m\u001b[0mleft\u001b[0m\u001b[1;33m,\u001b[0m \u001b[0mright\u001b[0m\u001b[1;33m)\u001b[0m\u001b[1;33m\u001b[0m\u001b[1;33m\u001b[0m\u001b[0m\n\u001b[0m\u001b[0;32m    167\u001b[0m     \u001b[1;32mexcept\u001b[0m \u001b[0mTypeError\u001b[0m\u001b[1;33m:\u001b[0m\u001b[1;33m\u001b[0m\u001b[1;33m\u001b[0m\u001b[0m\n\u001b[0;32m    168\u001b[0m         \u001b[1;32mif\u001b[0m \u001b[0mis_object_dtype\u001b[0m\u001b[1;33m(\u001b[0m\u001b[0mleft\u001b[0m\u001b[1;33m)\u001b[0m \u001b[1;32mor\u001b[0m \u001b[0mis_object_dtype\u001b[0m\u001b[1;33m(\u001b[0m\u001b[0mright\u001b[0m\u001b[1;33m)\u001b[0m \u001b[1;32mand\u001b[0m \u001b[1;32mnot\u001b[0m \u001b[0mis_cmp\u001b[0m\u001b[1;33m:\u001b[0m\u001b[1;33m\u001b[0m\u001b[1;33m\u001b[0m\u001b[0m\n",
      "\u001b[1;32m~\\anaconda3\\envs\\project\\lib\\site-packages\\pandas\\core\\computation\\expressions.py\u001b[0m in \u001b[0;36mevaluate\u001b[1;34m(op, a, b, use_numexpr)\u001b[0m\n\u001b[0;32m    237\u001b[0m         \u001b[1;32mif\u001b[0m \u001b[0muse_numexpr\u001b[0m\u001b[1;33m:\u001b[0m\u001b[1;33m\u001b[0m\u001b[1;33m\u001b[0m\u001b[0m\n\u001b[0;32m    238\u001b[0m             \u001b[1;31m# error: \"None\" not callable\u001b[0m\u001b[1;33m\u001b[0m\u001b[1;33m\u001b[0m\u001b[1;33m\u001b[0m\u001b[0m\n\u001b[1;32m--> 239\u001b[1;33m             \u001b[1;32mreturn\u001b[0m \u001b[0m_evaluate\u001b[0m\u001b[1;33m(\u001b[0m\u001b[0mop\u001b[0m\u001b[1;33m,\u001b[0m \u001b[0mop_str\u001b[0m\u001b[1;33m,\u001b[0m \u001b[0ma\u001b[0m\u001b[1;33m,\u001b[0m \u001b[0mb\u001b[0m\u001b[1;33m)\u001b[0m  \u001b[1;31m# type: ignore[misc]\u001b[0m\u001b[1;33m\u001b[0m\u001b[1;33m\u001b[0m\u001b[0m\n\u001b[0m\u001b[0;32m    240\u001b[0m     \u001b[1;32mreturn\u001b[0m \u001b[0m_evaluate_standard\u001b[0m\u001b[1;33m(\u001b[0m\u001b[0mop\u001b[0m\u001b[1;33m,\u001b[0m \u001b[0mop_str\u001b[0m\u001b[1;33m,\u001b[0m \u001b[0ma\u001b[0m\u001b[1;33m,\u001b[0m \u001b[0mb\u001b[0m\u001b[1;33m)\u001b[0m\u001b[1;33m\u001b[0m\u001b[1;33m\u001b[0m\u001b[0m\n\u001b[0;32m    241\u001b[0m \u001b[1;33m\u001b[0m\u001b[0m\n",
      "\u001b[1;32m~\\anaconda3\\envs\\project\\lib\\site-packages\\pandas\\core\\computation\\expressions.py\u001b[0m in \u001b[0;36m_evaluate_numexpr\u001b[1;34m(op, op_str, a, b)\u001b[0m\n\u001b[0;32m    126\u001b[0m \u001b[1;33m\u001b[0m\u001b[0m\n\u001b[0;32m    127\u001b[0m     \u001b[1;32mif\u001b[0m \u001b[0mresult\u001b[0m \u001b[1;32mis\u001b[0m \u001b[1;32mNone\u001b[0m\u001b[1;33m:\u001b[0m\u001b[1;33m\u001b[0m\u001b[1;33m\u001b[0m\u001b[0m\n\u001b[1;32m--> 128\u001b[1;33m         \u001b[0mresult\u001b[0m \u001b[1;33m=\u001b[0m \u001b[0m_evaluate_standard\u001b[0m\u001b[1;33m(\u001b[0m\u001b[0mop\u001b[0m\u001b[1;33m,\u001b[0m \u001b[0mop_str\u001b[0m\u001b[1;33m,\u001b[0m \u001b[0ma\u001b[0m\u001b[1;33m,\u001b[0m \u001b[0mb\u001b[0m\u001b[1;33m)\u001b[0m\u001b[1;33m\u001b[0m\u001b[1;33m\u001b[0m\u001b[0m\n\u001b[0m\u001b[0;32m    129\u001b[0m \u001b[1;33m\u001b[0m\u001b[0m\n\u001b[0;32m    130\u001b[0m     \u001b[1;32mreturn\u001b[0m \u001b[0mresult\u001b[0m\u001b[1;33m\u001b[0m\u001b[1;33m\u001b[0m\u001b[0m\n",
      "\u001b[1;32m~\\anaconda3\\envs\\project\\lib\\site-packages\\pandas\\core\\computation\\expressions.py\u001b[0m in \u001b[0;36m_evaluate_standard\u001b[1;34m(op, op_str, a, b)\u001b[0m\n\u001b[0;32m     67\u001b[0m     \u001b[1;32mif\u001b[0m \u001b[0m_TEST_MODE\u001b[0m\u001b[1;33m:\u001b[0m\u001b[1;33m\u001b[0m\u001b[1;33m\u001b[0m\u001b[0m\n\u001b[0;32m     68\u001b[0m         \u001b[0m_store_test_result\u001b[0m\u001b[1;33m(\u001b[0m\u001b[1;32mFalse\u001b[0m\u001b[1;33m)\u001b[0m\u001b[1;33m\u001b[0m\u001b[1;33m\u001b[0m\u001b[0m\n\u001b[1;32m---> 69\u001b[1;33m     \u001b[1;32mreturn\u001b[0m \u001b[0mop\u001b[0m\u001b[1;33m(\u001b[0m\u001b[0ma\u001b[0m\u001b[1;33m,\u001b[0m \u001b[0mb\u001b[0m\u001b[1;33m)\u001b[0m\u001b[1;33m\u001b[0m\u001b[1;33m\u001b[0m\u001b[0m\n\u001b[0m\u001b[0;32m     70\u001b[0m \u001b[1;33m\u001b[0m\u001b[0m\n\u001b[0;32m     71\u001b[0m \u001b[1;33m\u001b[0m\u001b[0m\n",
      "\u001b[1;31mMemoryError\u001b[0m: Unable to allocate 80.5 GiB for an array with shape (103914, 103914) and data type float64"
     ]
    }
   ],
   "source": [
    "import tensorflow as tf\n",
    "\n",
    "# 다중 출력을 다루는 신경망 모델 정의\n",
    "nn = tf.keras.Sequential([\n",
    "    tf.keras.layers.Dense(64, activation='relu', input_shape=(4,)),\n",
    "    tf.keras.layers.Dense(32, activation='relu'),\n",
    "    tf.keras.layers.Dense(1)  # 출력 레이어의 뉴런이 2개 (다중 출력)\n",
    "])\n",
    "\n",
    "# 모델 컴파일\n",
    "nn.compile(optimizer='adam', loss='mean_squared_error')\n",
    "\n",
    "# 모델 훈련\n",
    "nn.fit(x_train, y_train, epochs=50, batch_size=16, validation_split=0.2)\n",
    "\n",
    "nn_pred = nn.predict(x_test)\n",
    "\n",
    "# 모델 평가\n",
    "mse = MSE(y_test, nn_pred)\n",
    "print(f'Mean Squared Error: {mse}')\n",
    "\n",
    "# 결과 시각화 (예시\n",
    "x = np.linspace(0, 1, 10)\n",
    "\n",
    "# 작을 수록 더 좋음\n",
    "print(nn.evaluate(x_train, y_train))\n",
    "print(nn.evaluate(x_test, y_test))\n",
    "\n",
    "plt.scatter(y_test,nn_pred)\n",
    "plt.plot(x, x, '-r')\n",
    "plt.xlabel('Actual Values')\n",
    "plt.ylabel('Predicted Values')\n",
    "plt.xlim([-0.1, 1.1])\n",
    "plt.ylim([-0.1, 1.1])\n",
    "plt.show()"
   ]
  },
  {
   "cell_type": "markdown",
   "id": "12bd07ab",
   "metadata": {},
   "source": [
    "## Optimize"
   ]
  },
  {
   "cell_type": "code",
   "execution_count": null,
   "id": "89651d58",
   "metadata": {
    "ExecuteTime": {
     "start_time": "2023-12-08T08:21:59.930Z"
    },
    "scrolled": true
   },
   "outputs": [
    {
     "name": "stdout",
     "output_type": "stream",
     "text": [
      "|   iter    |  target   | batch_... |  epochs   |\n",
      "-------------------------------------------------\n",
      "15/15 [==============================] - 0s 1ms/step\n",
      "15/15 [==============================] - 0s 1ms/step - loss: 0.0021\n",
      "| \u001b[0m1        \u001b[0m | \u001b[0m-0.002121\u001b[0m | \u001b[0m47.53    \u001b[0m | \u001b[0m74.83    \u001b[0m |\n",
      "15/15 [==============================] - 0s 1ms/step\n",
      "15/15 [==============================] - 0s 1ms/step - loss: 9.4376e-04\n",
      "| \u001b[95m2        \u001b[0m | \u001b[95m-0.000943\u001b[0m | \u001b[95m10.01    \u001b[0m | \u001b[95m37.21    \u001b[0m |\n",
      "15/15 [==============================] - 0s 1ms/step\n",
      "15/15 [==============================] - 0s 1ms/step - loss: 0.0038\n",
      "| \u001b[0m3        \u001b[0m | \u001b[0m-0.003817\u001b[0m | \u001b[0m23.21    \u001b[0m | \u001b[0m18.31    \u001b[0m |\n",
      "15/15 [==============================] - 0s 1ms/step\n",
      "15/15 [==============================] - 0s 1ms/step - loss: 0.0028\n",
      "| \u001b[0m4        \u001b[0m | \u001b[0m-0.002802\u001b[0m | \u001b[0m26.76    \u001b[0m | \u001b[0m41.1     \u001b[0m |\n",
      "15/15 [==============================] - 0s 1ms/step\n",
      "15/15 [==============================] - 0s 1ms/step - loss: 0.0017\n",
      "| \u001b[0m5        \u001b[0m | \u001b[0m-0.001713\u001b[0m | \u001b[0m45.71    \u001b[0m | \u001b[0m58.49    \u001b[0m |\n",
      "15/15 [==============================] - 0s 1ms/step\n",
      "15/15 [==============================] - 0s 1ms/step - loss: 0.0014\n",
      "| \u001b[0m6        \u001b[0m | \u001b[0m-0.001433\u001b[0m | \u001b[0m45.49    \u001b[0m | \u001b[0m58.42    \u001b[0m |\n",
      "15/15 [==============================] - 0s 1ms/step\n",
      "15/15 [==============================] - 0s 1ms/step - loss: 0.0013\n",
      "| \u001b[0m7        \u001b[0m | \u001b[0m-0.001275\u001b[0m | \u001b[0m10.66    \u001b[0m | \u001b[0m38.19    \u001b[0m |\n",
      "15/15 [==============================] - 0s 1ms/step\n",
      "15/15 [==============================] - 0s 2ms/step - loss: 0.0024\n",
      "| \u001b[0m8        \u001b[0m | \u001b[0m-0.002357\u001b[0m | \u001b[0m43.72    \u001b[0m | \u001b[0m58.44    \u001b[0m |\n",
      "15/15 [==============================] - 0s 1ms/step\n",
      "15/15 [==============================] - 0s 1ms/step - loss: 0.0015\n",
      "| \u001b[0m9        \u001b[0m | \u001b[0m-0.001451\u001b[0m | \u001b[0m10.87    \u001b[0m | \u001b[0m36.86    \u001b[0m |\n",
      "15/15 [==============================] - 0s 1ms/step\n",
      "15/15 [==============================] - 0s 1ms/step - loss: 0.0014\n",
      "| \u001b[0m10       \u001b[0m | \u001b[0m-0.001355\u001b[0m | \u001b[0m12.16    \u001b[0m | \u001b[0m38.79    \u001b[0m |\n",
      "15/15 [==============================] - 0s 1ms/step\n",
      "15/15 [==============================] - 0s 1ms/step - loss: 0.0018\n",
      "| \u001b[0m11       \u001b[0m | \u001b[0m-0.001757\u001b[0m | \u001b[0m11.13    \u001b[0m | \u001b[0m39.97    \u001b[0m |\n",
      "15/15 [==============================] - 0s 1ms/step\n",
      "15/15 [==============================] - 0s 1ms/step - loss: 0.0022\n",
      "| \u001b[0m12       \u001b[0m | \u001b[0m-0.002164\u001b[0m | \u001b[0m12.79    \u001b[0m | \u001b[0m37.43    \u001b[0m |\n",
      "15/15 [==============================] - 0s 1ms/step\n",
      "15/15 [==============================] - 0s 1ms/step - loss: 0.0016\n",
      "| \u001b[0m13       \u001b[0m | \u001b[0m-0.001574\u001b[0m | \u001b[0m45.35    \u001b[0m | \u001b[0m57.09    \u001b[0m |\n",
      "15/15 [==============================] - 0s 1ms/step\n",
      "15/15 [==============================] - 0s 1ms/step - loss: 0.0013\n",
      "| \u001b[0m14       \u001b[0m | \u001b[0m-0.00126 \u001b[0m | \u001b[0m12.89    \u001b[0m | \u001b[0m40.0     \u001b[0m |\n",
      "15/15 [==============================] - 0s 1ms/step\n",
      "15/15 [==============================] - 0s 1ms/step - loss: 0.0011\n",
      "| \u001b[0m15       \u001b[0m | \u001b[0m-0.001112\u001b[0m | \u001b[0m12.88    \u001b[0m | \u001b[0m41.5     \u001b[0m |\n",
      "15/15 [==============================] - 0s 2ms/step\n",
      "15/15 [==============================] - 0s 1ms/step - loss: 0.0016\n",
      "| \u001b[0m16       \u001b[0m | \u001b[0m-0.001574\u001b[0m | \u001b[0m14.32    \u001b[0m | \u001b[0m41.9     \u001b[0m |\n",
      "15/15 [==============================] - 0s 1ms/step\n",
      "15/15 [==============================] - 0s 1ms/step - loss: 0.0015\n",
      "| \u001b[0m17       \u001b[0m | \u001b[0m-0.001453\u001b[0m | \u001b[0m12.33    \u001b[0m | \u001b[0m43.21    \u001b[0m |\n",
      "15/15 [==============================] - 0s 1ms/step\n",
      "15/15 [==============================] - 0s 1ms/step - loss: 7.8756e-04\n",
      "| \u001b[95m18       \u001b[0m | \u001b[95m-0.000787\u001b[0m | \u001b[95m10.0     \u001b[0m | \u001b[95m36.03    \u001b[0m |\n",
      "15/15 [==============================] - 0s 1ms/step\n",
      "15/15 [==============================] - 0s 1ms/step - loss: 0.0011\n",
      "| \u001b[0m19       \u001b[0m | \u001b[0m-0.001057\u001b[0m | \u001b[0m10.24    \u001b[0m | \u001b[0m34.94    \u001b[0m |\n",
      "15/15 [==============================] - 0s 1ms/step\n",
      "15/15 [==============================] - 0s 1ms/step - loss: 0.0014\n",
      "| \u001b[0m20       \u001b[0m | \u001b[0m-0.001361\u001b[0m | \u001b[0m11.63    \u001b[0m | \u001b[0m33.55    \u001b[0m |\n",
      "15/15 [==============================] - 0s 1ms/step\n",
      "15/15 [==============================] - 0s 1ms/step - loss: 0.0014\n",
      "| \u001b[0m21       \u001b[0m | \u001b[0m-0.00144 \u001b[0m | \u001b[0m11.36    \u001b[0m | \u001b[0m31.14    \u001b[0m |\n",
      "15/15 [==============================] - 0s 1ms/step\n",
      "15/15 [==============================] - 0s 1ms/step - loss: 0.0012\n",
      "| \u001b[0m22       \u001b[0m | \u001b[0m-0.001208\u001b[0m | \u001b[0m13.25    \u001b[0m | \u001b[0m31.94    \u001b[0m |\n",
      "15/15 [==============================] - 0s 1ms/step\n",
      "15/15 [==============================] - 0s 1ms/step - loss: 0.0012\n",
      "| \u001b[0m23       \u001b[0m | \u001b[0m-0.001194\u001b[0m | \u001b[0m14.49    \u001b[0m | \u001b[0m30.45    \u001b[0m |\n",
      "15/15 [==============================] - 0s 1ms/step\n",
      "15/15 [==============================] - 0s 1ms/step - loss: 9.8582e-04\n",
      "| \u001b[0m24       \u001b[0m | \u001b[0m-0.000985\u001b[0m | \u001b[0m14.8     \u001b[0m | \u001b[0m32.21    \u001b[0m |\n",
      "15/15 [==============================] - 0s 2ms/step\n",
      "15/15 [==============================] - 0s 1ms/step - loss: 0.0013\n",
      "| \u001b[0m25       \u001b[0m | \u001b[0m-0.00133 \u001b[0m | \u001b[0m16.11    \u001b[0m | \u001b[0m31.54    \u001b[0m |\n",
      "15/15 [==============================] - 0s 1ms/step\n",
      "15/15 [==============================] - 0s 1ms/step - loss: 0.0016\n",
      "| \u001b[0m26       \u001b[0m | \u001b[0m-0.001614\u001b[0m | \u001b[0m14.42    \u001b[0m | \u001b[0m33.85    \u001b[0m |\n",
      "15/15 [==============================] - 0s 1ms/step\n",
      "15/15 [==============================] - 0s 1ms/step - loss: 0.0016\n",
      "| \u001b[0m27       \u001b[0m | \u001b[0m-0.001579\u001b[0m | \u001b[0m16.1     \u001b[0m | \u001b[0m29.24    \u001b[0m |\n",
      "15/15 [==============================] - 0s 1ms/step\n",
      "15/15 [==============================] - 0s 1ms/step - loss: 0.0017\n",
      "| \u001b[0m28       \u001b[0m | \u001b[0m-0.001745\u001b[0m | \u001b[0m12.68    \u001b[0m | \u001b[0m29.22    \u001b[0m |\n",
      "15/15 [==============================] - 0s 2ms/step\n",
      "15/15 [==============================] - 0s 1ms/step - loss: 0.0013\n",
      "| \u001b[0m29       \u001b[0m | \u001b[0m-0.001259\u001b[0m | \u001b[0m10.02    \u001b[0m | \u001b[0m32.76    \u001b[0m |\n",
      "15/15 [==============================] - 0s 2ms/step\n",
      "15/15 [==============================] - 0s 1ms/step - loss: 0.0015\n",
      "| \u001b[0m30       \u001b[0m | \u001b[0m-0.001502\u001b[0m | \u001b[0m16.39    \u001b[0m | \u001b[0m33.3     \u001b[0m |\n",
      "15/15 [==============================] - 0s 1ms/step\n",
      "15/15 [==============================] - 0s 1ms/step - loss: 0.0020\n",
      "| \u001b[0m31       \u001b[0m | \u001b[0m-0.001978\u001b[0m | \u001b[0m18.84    \u001b[0m | \u001b[0m31.54    \u001b[0m |\n",
      "15/15 [==============================] - 0s 1ms/step\n",
      "15/15 [==============================] - 0s 1ms/step - loss: 8.7511e-04\n",
      "| \u001b[0m32       \u001b[0m | \u001b[0m-0.000875\u001b[0m | \u001b[0m12.2     \u001b[0m | \u001b[0m46.26    \u001b[0m |\n",
      "15/15 [==============================] - 0s 1ms/step\n",
      "15/15 [==============================] - 0s 1ms/step - loss: 0.0024\n",
      "| \u001b[0m33       \u001b[0m | \u001b[0m-0.002414\u001b[0m | \u001b[0m13.21    \u001b[0m | \u001b[0m47.05    \u001b[0m |\n",
      "15/15 [==============================] - 0s 1ms/step\n",
      "15/15 [==============================] - 0s 1ms/step - loss: 8.9695e-04\n",
      "| \u001b[0m34       \u001b[0m | \u001b[0m-0.000897\u001b[0m | \u001b[0m12.3     \u001b[0m | \u001b[0m45.36    \u001b[0m |\n",
      "15/15 [==============================] - 0s 1ms/step\n",
      "15/15 [==============================] - 0s 1ms/step - loss: 0.0011\n",
      "| \u001b[0m35       \u001b[0m | \u001b[0m-0.001102\u001b[0m | \u001b[0m11.13    \u001b[0m | \u001b[0m45.36    \u001b[0m |\n",
      "15/15 [==============================] - 0s 1ms/step\n",
      "15/15 [==============================] - 0s 1ms/step - loss: 0.0019\n",
      "| \u001b[0m36       \u001b[0m | \u001b[0m-0.00195 \u001b[0m | \u001b[0m10.59    \u001b[0m | \u001b[0m46.51    \u001b[0m |\n",
      "15/15 [==============================] - 0s 1ms/step\n",
      "15/15 [==============================] - 0s 1ms/step - loss: 9.2857e-04\n",
      "| \u001b[0m37       \u001b[0m | \u001b[0m-0.000928\u001b[0m | \u001b[0m10.59    \u001b[0m | \u001b[0m43.7     \u001b[0m |\n",
      "15/15 [==============================] - 0s 2ms/step\n",
      "15/15 [==============================] - 0s 1ms/step - loss: 0.0012\n",
      "| \u001b[0m38       \u001b[0m | \u001b[0m-0.001151\u001b[0m | \u001b[0m10.05    \u001b[0m | \u001b[0m42.91    \u001b[0m |\n",
      "15/15 [==============================] - 0s 2ms/step\n",
      "15/15 [==============================] - 0s 1ms/step - loss: 9.6759e-04\n",
      "| \u001b[0m39       \u001b[0m | \u001b[0m-0.000967\u001b[0m | \u001b[0m11.57    \u001b[0m | \u001b[0m44.23    \u001b[0m |\n"
     ]
    }
   ],
   "source": [
    "from bayes_opt import BayesianOptimization\n",
    "\n",
    "def train_acc(epochs, batch_size):\n",
    "    \n",
    "    # 다중 출력을 다루는 신경망 모델 정의\n",
    "    nn_final = tf.keras.Sequential([\n",
    "        tf.keras.layers.Dense(64, activation='relu', input_shape=(3,)),\n",
    "        tf.keras.layers.Dense(32, activation='relu'),\n",
    "        tf.keras.layers.Dense(2)  # 출력 레이어의 뉴런이 2개 (다중 출력)\n",
    "    ])\n",
    "\n",
    "    # 모델 컴파일\n",
    "    nn_final.compile(optimizer='adam', loss='mean_squared_error')\n",
    "\n",
    "    # 모델 훈련\n",
    "    nn_final.fit(x_train, y_train, epochs=int(epochs), batch_size=int(batch_size), validation_split=0.2, verbose=0)\n",
    "    \n",
    "   # Validation\n",
    "    nn_final_pred = nn_final.predict(x_test)\n",
    "    acc= nn_final.evaluate(x_test, y_test)\n",
    "    \n",
    "    return -acc\n",
    "\n",
    "pbounds = {'epochs': (10, 100), 'batch_size': (10, 100)} # 범위 설정\n",
    "\n",
    "optimizer = BayesianOptimization(\n",
    "    f=train_acc,\n",
    "    pbounds=pbounds ,\n",
    "    random_state=1)\n",
    "\n",
    "optimizer.maximize(init_points=5 , n_iter= 100) "
   ]
  },
  {
   "cell_type": "code",
   "execution_count": null,
   "id": "2ca4a138",
   "metadata": {
    "ExecuteTime": {
     "start_time": "2023-12-08T08:21:59.932Z"
    },
    "scrolled": false
   },
   "outputs": [],
   "source": [
    "# 다중 출력을 다루는 신경망 모델 정의\n",
    "nn_final = tf.keras.Sequential([\n",
    "    tf.keras.layers.Dense(64, activation='relu', input_shape=(3,)),\n",
    "    tf.keras.layers.Dense(32, activation='relu'),\n",
    "    tf.keras.layers.Dense(2)  # 출력 레이어의 뉴런이 2개 (다중 출력)\n",
    "])\n",
    "\n",
    "# 모델 컴파일\n",
    "nn_final.compile(optimizer='adam', loss='mean_squared_error')\n",
    "\n",
    "# 모델 훈련\n",
    "nn_final.fit(x_train, y_train, epochs=77, batch_size=15, validation_split=0.2)\n",
    "\n",
    "nn_final_pred = nn_final.predict(x_test)\n",
    "\n",
    "# 모델 평가\n",
    "mse = MSE(y_test, nn_final_pred)\n",
    "print(f'Mean Squared Error: {mse}')\n",
    "\n",
    "# 결과 시각화 (예시\n",
    "x = np.linspace(0, 1, 10)\n",
    "\n",
    "# 작을 수록 더 좋음\n",
    "print(nn_final.evaluate(x_train, y_train))\n",
    "print(nn_final.evaluate(x_test, y_test))\n",
    "\n",
    "plt.scatter(y_test,nn_final_pred)\n",
    "plt.plot(x, x, '-r')\n",
    "plt.xlabel('Actual Values')\n",
    "plt.ylabel('Predicted Values')\n",
    "plt.xlim([-0.1, 1.1])\n",
    "plt.ylim([-0.1, 1.1])\n",
    "plt.show()"
   ]
  },
  {
   "cell_type": "code",
   "execution_count": 40,
   "id": "ce7f53b3",
   "metadata": {
    "ExecuteTime": {
     "end_time": "2023-12-08T19:10:01.355703Z",
     "start_time": "2023-12-08T19:10:01.342717Z"
    }
   },
   "outputs": [],
   "source": [
    "import warnings\n",
    "warnings.filterwarnings(action='ignore')"
   ]
  },
  {
   "cell_type": "code",
   "execution_count": 50,
   "id": "a523a283",
   "metadata": {
    "ExecuteTime": {
     "end_time": "2023-12-08T17:21:59.616354Z",
     "start_time": "2023-12-08T17:21:52.728759Z"
    },
    "scrolled": false
   },
   "outputs": [
    {
     "name": "stdout",
     "output_type": "stream",
     "text": [
      "[0.97822388]\n"
     ]
    },
    {
     "data": {
      "image/png": "[encoded data removed]",
      "text/plain": [
       "<Figure size 640x480 with 1 Axes>"
      ]
     },
     "metadata": {},
     "output_type": "display_data"
    }
   ],
   "source": [
    "from sklearn.model_selection import train_test_split\n",
    "from sklearn.ensemble import RandomForestRegressor\n",
    "from sklearn.metrics import mean_squared_error\n",
    "\n",
    "# rf = RandomForestRegressor(n_estimators=100, random_state=42)\n",
    "# rf.fit(x_train, y_train)\n",
    "\n",
    "# rf_pred = rf.predict(x_test)\n",
    "# 모델 평가\n",
    "# mse = MSE(y_test, rf_pred)\n",
    "# print(f'Mean Squared Error: {mse}')\n",
    "\n",
    "# 결과 시각화 (예시)\n",
    "\n",
    "nSub, nARC, thARC = 3.4, 1.8, 2.0\n",
    "wave = np.linspace(3, 15, 1000)\n",
    "t = [rf.predict([[nSub, nARC, thARC, w]]) for w in wave]\n",
    "\n",
    "print(max(t))\n",
    "\n",
    "plt.figure()\n",
    "plt.plot(wave, t)\n",
    "plt.xlabel('Wavelength [um]')\n",
    "plt.ylabel('T')\n",
    "# plt.xlim([-0.1, 1.1])\n",
    "# plt.ylim([-0.1, 1.1])\n",
    "plt.show()"
   ]
  },
  {
   "cell_type": "code",
   "execution_count": null,
   "id": "abf10341",
   "metadata": {},
   "outputs": [],
   "source": []
  }
 ],
 "metadata": {
  "hide_input": false,
  "kernelspec": {
   "display_name": "Python 3 (ipykernel)",
   "language": "python",
   "name": "python3"
  },
  "language_info": {
   "codemirror_mode": {
    "name": "ipython",
    "version": 3
   },
   "file_extension": ".py",
   "mimetype": "text/x-python",
   "name": "python",
   "nbconvert_exporter": "python",
   "pygments_lexer": "ipython3",
   "version": "3.7.16"
  },
  "toc": {
   "base_numbering": 1,
   "nav_menu": {},
   "number_sections": true,
   "sideBar": true,
   "skip_h1_title": false,
   "title_cell": "Table of Contents",
   "title_sidebar": "Contents",
   "toc_cell": false,
   "toc_position": {
    "height": "calc(100% - 180px)",
    "left": "10px",
    "top": "150px",
    "width": "210.6px"
   },
   "toc_section_display": true,
   "toc_window_display": true
  }
 },
 "nbformat": 4,
 "nbformat_minor": 5
}
